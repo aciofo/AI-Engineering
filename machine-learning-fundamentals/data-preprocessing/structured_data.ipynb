{
  "nbformat": 4,
  "nbformat_minor": 0,
  "metadata": {
    "colab": {
      "provenance": [],
      "mount_file_id": "1u0fz9JRCm2C9rcn3CMN8tqVKpvw8Bup4",
      "authorship_tag": "ABX9TyOVSXI8M3kKy+Cg3EmOWPtf",
      "include_colab_link": true
    },
    "kernelspec": {
      "name": "python3",
      "display_name": "Python 3"
    },
    "language_info": {
      "name": "python"
    }
  },
  "cells": [
    {
      "cell_type": "markdown",
      "metadata": {
        "id": "view-in-github",
        "colab_type": "text"
      },
      "source": [
        "<a href=\"https://colab.research.google.com/github/aciofo/AI-Engineering/blob/main/machine-learning-fundamentals/data-preprocessing/structured_data.ipynb\" target=\"_parent\"><img src=\"https://colab.research.google.com/assets/colab-badge.svg\" alt=\"Open In Colab\"/></a>"
      ]
    },
    {
      "cell_type": "markdown",
      "source": [
        "# Reading structured data"
      ],
      "metadata": {
        "id": "ndCNH7OBlotw"
      }
    },
    {
      "cell_type": "code",
      "execution_count": null,
      "metadata": {
        "id": "Cf5t4bvgi4hX"
      },
      "outputs": [],
      "source": [
        "import pandas as pd\n",
        "!pip install odfpy"
      ]
    },
    {
      "cell_type": "code",
      "source": [
        "BASE_URL = \"https://raw.githubusercontent.com/ProfAI/machine-learning-fondamenti/refs/heads/main/datasets/\""
      ],
      "metadata": {
        "id": "QRUtn44mlLhh"
      },
      "execution_count": null,
      "outputs": []
    },
    {
      "cell_type": "code",
      "source": [
        "df = pd.read_csv(BASE_URL + \"shirts_example.csv\", index_col = 0)\n",
        "df.head()"
      ],
      "metadata": {
        "id": "IEmJY9I9lVE_"
      },
      "execution_count": null,
      "outputs": []
    },
    {
      "cell_type": "code",
      "source": [
        "df = pd.read_csv(BASE_URL + \"shirts_example.tsv\", index_col = 0, sep='\\t')\n",
        "df.head()"
      ],
      "metadata": {
        "id": "BAd86X2BmkFm"
      },
      "execution_count": null,
      "outputs": []
    },
    {
      "cell_type": "code",
      "source": [
        "df = pd.read_json(BASE_URL + \"shirts_example.json\")\n",
        "df.head(10)"
      ],
      "metadata": {
        "id": "zNxpJfYlnXOn"
      },
      "execution_count": null,
      "outputs": []
    },
    {
      "cell_type": "code",
      "source": [
        "df = pd.read_xml(BASE_URL + \"shirts_example.xml\")\n",
        "df.head()"
      ],
      "metadata": {
        "id": "puOOHBPknp3R"
      },
      "execution_count": null,
      "outputs": []
    },
    {
      "cell_type": "code",
      "source": [
        "df = pd.read_html(BASE_URL + \"shirts_example.html\", index_col = 0, header=0)\n",
        "type(df)\n",
        "df[0].head()"
      ],
      "metadata": {
        "id": "2_auQXfUogsM"
      },
      "execution_count": null,
      "outputs": []
    },
    {
      "cell_type": "code",
      "source": [
        "df = pd.read_excel(BASE_URL + \"shirts_example.ods\")\n",
        "df.head()"
      ],
      "metadata": {
        "id": "6WLjbb2ipSeO"
      },
      "execution_count": null,
      "outputs": []
    }
  ]
}