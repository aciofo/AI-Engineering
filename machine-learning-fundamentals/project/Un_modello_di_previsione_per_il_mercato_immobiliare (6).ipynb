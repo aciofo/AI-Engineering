{
  "nbformat": 4,
  "nbformat_minor": 0,
  "metadata": {
    "colab": {
      "provenance": [],
      "toc_visible": true
    },
    "kernelspec": {
      "name": "python3",
      "display_name": "Python 3"
    },
    "language_info": {
      "name": "python"
    }
  },
  "cells": [
    {
      "cell_type": "code",
      "source": [
        "from google.colab import drive\n",
        "drive.mount('/content/drive')"
      ],
      "metadata": {
        "colab": {
          "base_uri": "https://localhost:8080/"
        },
        "id": "DaY3VCsH15fU",
        "outputId": "2422e009-60eb-4858-da16-8219fb244b8a"
      },
      "execution_count": null,
      "outputs": [
        {
          "output_type": "stream",
          "name": "stdout",
          "text": [
            "Mounted at /content/drive\n"
          ]
        }
      ]
    },
    {
      "cell_type": "code",
      "source": [
        "# import pandas library\n",
        "import pandas as pd"
      ],
      "metadata": {
        "id": "OAkfH2xYzn5B"
      },
      "execution_count": 1,
      "outputs": []
    },
    {
      "cell_type": "markdown",
      "source": [
        "# Read the dataset"
      ],
      "metadata": {
        "id": "7ghJGkKZ7T2x"
      }
    },
    {
      "cell_type": "code",
      "execution_count": 24,
      "metadata": {
        "colab": {
          "base_uri": "https://localhost:8080/",
          "height": 206
        },
        "id": "rSGE2zfJywur",
        "outputId": "b1a9950c-466c-4501-e512-a79d61cb0182"
      },
      "outputs": [
        {
          "output_type": "execute_result",
          "data": {
            "text/plain": [
              "      price  area  bedrooms  bathrooms  stories  mainroad  guestroom  \\\n",
              "0  13300000  7420         4          2        3         1          0   \n",
              "1  12250000  8960         4          4        4         1          0   \n",
              "2  12250000  9960         3          2        2         1          0   \n",
              "3  12215000  7500         4          2        2         1          0   \n",
              "4  11410000  7420         4          1        2         1          1   \n",
              "\n",
              "   basement  hotwaterheating  airconditioning  parking  prefarea  \\\n",
              "0         0                0                1        2         1   \n",
              "1         0                0                1        3         0   \n",
              "2         1                0                0        2         1   \n",
              "3         1                0                1        3         1   \n",
              "4         1                0                1        2         0   \n",
              "\n",
              "   furnishingstatus  \n",
              "0                 1  \n",
              "1                 1  \n",
              "2                 2  \n",
              "3                 1  \n",
              "4                 1  "
            ],
            "text/html": [
              "\n",
              "  <div id=\"df-e3173484-04a1-41b0-aa1e-5b1a6e827f5c\" class=\"colab-df-container\">\n",
              "    <div>\n",
              "<style scoped>\n",
              "    .dataframe tbody tr th:only-of-type {\n",
              "        vertical-align: middle;\n",
              "    }\n",
              "\n",
              "    .dataframe tbody tr th {\n",
              "        vertical-align: top;\n",
              "    }\n",
              "\n",
              "    .dataframe thead th {\n",
              "        text-align: right;\n",
              "    }\n",
              "</style>\n",
              "<table border=\"1\" class=\"dataframe\">\n",
              "  <thead>\n",
              "    <tr style=\"text-align: right;\">\n",
              "      <th></th>\n",
              "      <th>price</th>\n",
              "      <th>area</th>\n",
              "      <th>bedrooms</th>\n",
              "      <th>bathrooms</th>\n",
              "      <th>stories</th>\n",
              "      <th>mainroad</th>\n",
              "      <th>guestroom</th>\n",
              "      <th>basement</th>\n",
              "      <th>hotwaterheating</th>\n",
              "      <th>airconditioning</th>\n",
              "      <th>parking</th>\n",
              "      <th>prefarea</th>\n",
              "      <th>furnishingstatus</th>\n",
              "    </tr>\n",
              "  </thead>\n",
              "  <tbody>\n",
              "    <tr>\n",
              "      <th>0</th>\n",
              "      <td>13300000</td>\n",
              "      <td>7420</td>\n",
              "      <td>4</td>\n",
              "      <td>2</td>\n",
              "      <td>3</td>\n",
              "      <td>1</td>\n",
              "      <td>0</td>\n",
              "      <td>0</td>\n",
              "      <td>0</td>\n",
              "      <td>1</td>\n",
              "      <td>2</td>\n",
              "      <td>1</td>\n",
              "      <td>1</td>\n",
              "    </tr>\n",
              "    <tr>\n",
              "      <th>1</th>\n",
              "      <td>12250000</td>\n",
              "      <td>8960</td>\n",
              "      <td>4</td>\n",
              "      <td>4</td>\n",
              "      <td>4</td>\n",
              "      <td>1</td>\n",
              "      <td>0</td>\n",
              "      <td>0</td>\n",
              "      <td>0</td>\n",
              "      <td>1</td>\n",
              "      <td>3</td>\n",
              "      <td>0</td>\n",
              "      <td>1</td>\n",
              "    </tr>\n",
              "    <tr>\n",
              "      <th>2</th>\n",
              "      <td>12250000</td>\n",
              "      <td>9960</td>\n",
              "      <td>3</td>\n",
              "      <td>2</td>\n",
              "      <td>2</td>\n",
              "      <td>1</td>\n",
              "      <td>0</td>\n",
              "      <td>1</td>\n",
              "      <td>0</td>\n",
              "      <td>0</td>\n",
              "      <td>2</td>\n",
              "      <td>1</td>\n",
              "      <td>2</td>\n",
              "    </tr>\n",
              "    <tr>\n",
              "      <th>3</th>\n",
              "      <td>12215000</td>\n",
              "      <td>7500</td>\n",
              "      <td>4</td>\n",
              "      <td>2</td>\n",
              "      <td>2</td>\n",
              "      <td>1</td>\n",
              "      <td>0</td>\n",
              "      <td>1</td>\n",
              "      <td>0</td>\n",
              "      <td>1</td>\n",
              "      <td>3</td>\n",
              "      <td>1</td>\n",
              "      <td>1</td>\n",
              "    </tr>\n",
              "    <tr>\n",
              "      <th>4</th>\n",
              "      <td>11410000</td>\n",
              "      <td>7420</td>\n",
              "      <td>4</td>\n",
              "      <td>1</td>\n",
              "      <td>2</td>\n",
              "      <td>1</td>\n",
              "      <td>1</td>\n",
              "      <td>1</td>\n",
              "      <td>0</td>\n",
              "      <td>1</td>\n",
              "      <td>2</td>\n",
              "      <td>0</td>\n",
              "      <td>1</td>\n",
              "    </tr>\n",
              "  </tbody>\n",
              "</table>\n",
              "</div>\n",
              "    <div class=\"colab-df-buttons\">\n",
              "\n",
              "  <div class=\"colab-df-container\">\n",
              "    <button class=\"colab-df-convert\" onclick=\"convertToInteractive('df-e3173484-04a1-41b0-aa1e-5b1a6e827f5c')\"\n",
              "            title=\"Convert this dataframe to an interactive table.\"\n",
              "            style=\"display:none;\">\n",
              "\n",
              "  <svg xmlns=\"http://www.w3.org/2000/svg\" height=\"24px\" viewBox=\"0 -960 960 960\">\n",
              "    <path d=\"M120-120v-720h720v720H120Zm60-500h600v-160H180v160Zm220 220h160v-160H400v160Zm0 220h160v-160H400v160ZM180-400h160v-160H180v160Zm440 0h160v-160H620v160ZM180-180h160v-160H180v160Zm440 0h160v-160H620v160Z\"/>\n",
              "  </svg>\n",
              "    </button>\n",
              "\n",
              "  <style>\n",
              "    .colab-df-container {\n",
              "      display:flex;\n",
              "      gap: 12px;\n",
              "    }\n",
              "\n",
              "    .colab-df-convert {\n",
              "      background-color: #E8F0FE;\n",
              "      border: none;\n",
              "      border-radius: 50%;\n",
              "      cursor: pointer;\n",
              "      display: none;\n",
              "      fill: #1967D2;\n",
              "      height: 32px;\n",
              "      padding: 0 0 0 0;\n",
              "      width: 32px;\n",
              "    }\n",
              "\n",
              "    .colab-df-convert:hover {\n",
              "      background-color: #E2EBFA;\n",
              "      box-shadow: 0px 1px 2px rgba(60, 64, 67, 0.3), 0px 1px 3px 1px rgba(60, 64, 67, 0.15);\n",
              "      fill: #174EA6;\n",
              "    }\n",
              "\n",
              "    .colab-df-buttons div {\n",
              "      margin-bottom: 4px;\n",
              "    }\n",
              "\n",
              "    [theme=dark] .colab-df-convert {\n",
              "      background-color: #3B4455;\n",
              "      fill: #D2E3FC;\n",
              "    }\n",
              "\n",
              "    [theme=dark] .colab-df-convert:hover {\n",
              "      background-color: #434B5C;\n",
              "      box-shadow: 0px 1px 3px 1px rgba(0, 0, 0, 0.15);\n",
              "      filter: drop-shadow(0px 1px 2px rgba(0, 0, 0, 0.3));\n",
              "      fill: #FFFFFF;\n",
              "    }\n",
              "  </style>\n",
              "\n",
              "    <script>\n",
              "      const buttonEl =\n",
              "        document.querySelector('#df-e3173484-04a1-41b0-aa1e-5b1a6e827f5c button.colab-df-convert');\n",
              "      buttonEl.style.display =\n",
              "        google.colab.kernel.accessAllowed ? 'block' : 'none';\n",
              "\n",
              "      async function convertToInteractive(key) {\n",
              "        const element = document.querySelector('#df-e3173484-04a1-41b0-aa1e-5b1a6e827f5c');\n",
              "        const dataTable =\n",
              "          await google.colab.kernel.invokeFunction('convertToInteractive',\n",
              "                                                    [key], {});\n",
              "        if (!dataTable) return;\n",
              "\n",
              "        const docLinkHtml = 'Like what you see? Visit the ' +\n",
              "          '<a target=\"_blank\" href=https://colab.research.google.com/notebooks/data_table.ipynb>data table notebook</a>'\n",
              "          + ' to learn more about interactive tables.';\n",
              "        element.innerHTML = '';\n",
              "        dataTable['output_type'] = 'display_data';\n",
              "        await google.colab.output.renderOutput(dataTable, element);\n",
              "        const docLink = document.createElement('div');\n",
              "        docLink.innerHTML = docLinkHtml;\n",
              "        element.appendChild(docLink);\n",
              "      }\n",
              "    </script>\n",
              "  </div>\n",
              "\n",
              "\n",
              "    <div id=\"df-b6e49eb4-01d9-47e7-9fbe-55426e6683d7\">\n",
              "      <button class=\"colab-df-quickchart\" onclick=\"quickchart('df-b6e49eb4-01d9-47e7-9fbe-55426e6683d7')\"\n",
              "                title=\"Suggest charts\"\n",
              "                style=\"display:none;\">\n",
              "\n",
              "<svg xmlns=\"http://www.w3.org/2000/svg\" height=\"24px\"viewBox=\"0 0 24 24\"\n",
              "     width=\"24px\">\n",
              "    <g>\n",
              "        <path d=\"M19 3H5c-1.1 0-2 .9-2 2v14c0 1.1.9 2 2 2h14c1.1 0 2-.9 2-2V5c0-1.1-.9-2-2-2zM9 17H7v-7h2v7zm4 0h-2V7h2v10zm4 0h-2v-4h2v4z\"/>\n",
              "    </g>\n",
              "</svg>\n",
              "      </button>\n",
              "\n",
              "<style>\n",
              "  .colab-df-quickchart {\n",
              "      --bg-color: #E8F0FE;\n",
              "      --fill-color: #1967D2;\n",
              "      --hover-bg-color: #E2EBFA;\n",
              "      --hover-fill-color: #174EA6;\n",
              "      --disabled-fill-color: #AAA;\n",
              "      --disabled-bg-color: #DDD;\n",
              "  }\n",
              "\n",
              "  [theme=dark] .colab-df-quickchart {\n",
              "      --bg-color: #3B4455;\n",
              "      --fill-color: #D2E3FC;\n",
              "      --hover-bg-color: #434B5C;\n",
              "      --hover-fill-color: #FFFFFF;\n",
              "      --disabled-bg-color: #3B4455;\n",
              "      --disabled-fill-color: #666;\n",
              "  }\n",
              "\n",
              "  .colab-df-quickchart {\n",
              "    background-color: var(--bg-color);\n",
              "    border: none;\n",
              "    border-radius: 50%;\n",
              "    cursor: pointer;\n",
              "    display: none;\n",
              "    fill: var(--fill-color);\n",
              "    height: 32px;\n",
              "    padding: 0;\n",
              "    width: 32px;\n",
              "  }\n",
              "\n",
              "  .colab-df-quickchart:hover {\n",
              "    background-color: var(--hover-bg-color);\n",
              "    box-shadow: 0 1px 2px rgba(60, 64, 67, 0.3), 0 1px 3px 1px rgba(60, 64, 67, 0.15);\n",
              "    fill: var(--button-hover-fill-color);\n",
              "  }\n",
              "\n",
              "  .colab-df-quickchart-complete:disabled,\n",
              "  .colab-df-quickchart-complete:disabled:hover {\n",
              "    background-color: var(--disabled-bg-color);\n",
              "    fill: var(--disabled-fill-color);\n",
              "    box-shadow: none;\n",
              "  }\n",
              "\n",
              "  .colab-df-spinner {\n",
              "    border: 2px solid var(--fill-color);\n",
              "    border-color: transparent;\n",
              "    border-bottom-color: var(--fill-color);\n",
              "    animation:\n",
              "      spin 1s steps(1) infinite;\n",
              "  }\n",
              "\n",
              "  @keyframes spin {\n",
              "    0% {\n",
              "      border-color: transparent;\n",
              "      border-bottom-color: var(--fill-color);\n",
              "      border-left-color: var(--fill-color);\n",
              "    }\n",
              "    20% {\n",
              "      border-color: transparent;\n",
              "      border-left-color: var(--fill-color);\n",
              "      border-top-color: var(--fill-color);\n",
              "    }\n",
              "    30% {\n",
              "      border-color: transparent;\n",
              "      border-left-color: var(--fill-color);\n",
              "      border-top-color: var(--fill-color);\n",
              "      border-right-color: var(--fill-color);\n",
              "    }\n",
              "    40% {\n",
              "      border-color: transparent;\n",
              "      border-right-color: var(--fill-color);\n",
              "      border-top-color: var(--fill-color);\n",
              "    }\n",
              "    60% {\n",
              "      border-color: transparent;\n",
              "      border-right-color: var(--fill-color);\n",
              "    }\n",
              "    80% {\n",
              "      border-color: transparent;\n",
              "      border-right-color: var(--fill-color);\n",
              "      border-bottom-color: var(--fill-color);\n",
              "    }\n",
              "    90% {\n",
              "      border-color: transparent;\n",
              "      border-bottom-color: var(--fill-color);\n",
              "    }\n",
              "  }\n",
              "</style>\n",
              "\n",
              "      <script>\n",
              "        async function quickchart(key) {\n",
              "          const quickchartButtonEl =\n",
              "            document.querySelector('#' + key + ' button');\n",
              "          quickchartButtonEl.disabled = true;  // To prevent multiple clicks.\n",
              "          quickchartButtonEl.classList.add('colab-df-spinner');\n",
              "          try {\n",
              "            const charts = await google.colab.kernel.invokeFunction(\n",
              "                'suggestCharts', [key], {});\n",
              "          } catch (error) {\n",
              "            console.error('Error during call to suggestCharts:', error);\n",
              "          }\n",
              "          quickchartButtonEl.classList.remove('colab-df-spinner');\n",
              "          quickchartButtonEl.classList.add('colab-df-quickchart-complete');\n",
              "        }\n",
              "        (() => {\n",
              "          let quickchartButtonEl =\n",
              "            document.querySelector('#df-b6e49eb4-01d9-47e7-9fbe-55426e6683d7 button');\n",
              "          quickchartButtonEl.style.display =\n",
              "            google.colab.kernel.accessAllowed ? 'block' : 'none';\n",
              "        })();\n",
              "      </script>\n",
              "    </div>\n",
              "\n",
              "    </div>\n",
              "  </div>\n"
            ],
            "application/vnd.google.colaboratory.intrinsic+json": {
              "type": "dataframe",
              "variable_name": "df",
              "summary": "{\n  \"name\": \"df\",\n  \"rows\": 545,\n  \"fields\": [\n    {\n      \"column\": \"price\",\n      \"properties\": {\n        \"dtype\": \"number\",\n        \"std\": 1870439,\n        \"min\": 1750000,\n        \"max\": 13300000,\n        \"num_unique_values\": 219,\n        \"samples\": [\n          3773000,\n          5285000,\n          1820000\n        ],\n        \"semantic_type\": \"\",\n        \"description\": \"\"\n      }\n    },\n    {\n      \"column\": \"area\",\n      \"properties\": {\n        \"dtype\": \"number\",\n        \"std\": 2170,\n        \"min\": 1650,\n        \"max\": 16200,\n        \"num_unique_values\": 284,\n        \"samples\": [\n          6000,\n          2684,\n          5360\n        ],\n        \"semantic_type\": \"\",\n        \"description\": \"\"\n      }\n    },\n    {\n      \"column\": \"bedrooms\",\n      \"properties\": {\n        \"dtype\": \"number\",\n        \"std\": 0,\n        \"min\": 1,\n        \"max\": 6,\n        \"num_unique_values\": 6,\n        \"samples\": [\n          4,\n          3,\n          1\n        ],\n        \"semantic_type\": \"\",\n        \"description\": \"\"\n      }\n    },\n    {\n      \"column\": \"bathrooms\",\n      \"properties\": {\n        \"dtype\": \"number\",\n        \"std\": 0,\n        \"min\": 1,\n        \"max\": 4,\n        \"num_unique_values\": 4,\n        \"samples\": [\n          4,\n          3,\n          2\n        ],\n        \"semantic_type\": \"\",\n        \"description\": \"\"\n      }\n    },\n    {\n      \"column\": \"stories\",\n      \"properties\": {\n        \"dtype\": \"number\",\n        \"std\": 0,\n        \"min\": 1,\n        \"max\": 4,\n        \"num_unique_values\": 4,\n        \"samples\": [\n          4,\n          1,\n          3\n        ],\n        \"semantic_type\": \"\",\n        \"description\": \"\"\n      }\n    },\n    {\n      \"column\": \"mainroad\",\n      \"properties\": {\n        \"dtype\": \"number\",\n        \"std\": 0,\n        \"min\": 0,\n        \"max\": 1,\n        \"num_unique_values\": 2,\n        \"samples\": [\n          0,\n          1\n        ],\n        \"semantic_type\": \"\",\n        \"description\": \"\"\n      }\n    },\n    {\n      \"column\": \"guestroom\",\n      \"properties\": {\n        \"dtype\": \"number\",\n        \"std\": 0,\n        \"min\": 0,\n        \"max\": 1,\n        \"num_unique_values\": 2,\n        \"samples\": [\n          1,\n          0\n        ],\n        \"semantic_type\": \"\",\n        \"description\": \"\"\n      }\n    },\n    {\n      \"column\": \"basement\",\n      \"properties\": {\n        \"dtype\": \"number\",\n        \"std\": 0,\n        \"min\": 0,\n        \"max\": 1,\n        \"num_unique_values\": 2,\n        \"samples\": [\n          1,\n          0\n        ],\n        \"semantic_type\": \"\",\n        \"description\": \"\"\n      }\n    },\n    {\n      \"column\": \"hotwaterheating\",\n      \"properties\": {\n        \"dtype\": \"number\",\n        \"std\": 0,\n        \"min\": 0,\n        \"max\": 1,\n        \"num_unique_values\": 2,\n        \"samples\": [\n          1,\n          0\n        ],\n        \"semantic_type\": \"\",\n        \"description\": \"\"\n      }\n    },\n    {\n      \"column\": \"airconditioning\",\n      \"properties\": {\n        \"dtype\": \"number\",\n        \"std\": 0,\n        \"min\": 0,\n        \"max\": 1,\n        \"num_unique_values\": 2,\n        \"samples\": [\n          0,\n          1\n        ],\n        \"semantic_type\": \"\",\n        \"description\": \"\"\n      }\n    },\n    {\n      \"column\": \"parking\",\n      \"properties\": {\n        \"dtype\": \"number\",\n        \"std\": 0,\n        \"min\": 0,\n        \"max\": 3,\n        \"num_unique_values\": 4,\n        \"samples\": [\n          3,\n          1\n        ],\n        \"semantic_type\": \"\",\n        \"description\": \"\"\n      }\n    },\n    {\n      \"column\": \"prefarea\",\n      \"properties\": {\n        \"dtype\": \"number\",\n        \"std\": 0,\n        \"min\": 0,\n        \"max\": 1,\n        \"num_unique_values\": 2,\n        \"samples\": [\n          0,\n          1\n        ],\n        \"semantic_type\": \"\",\n        \"description\": \"\"\n      }\n    },\n    {\n      \"column\": \"furnishingstatus\",\n      \"properties\": {\n        \"dtype\": \"number\",\n        \"std\": 0,\n        \"min\": 0,\n        \"max\": 2,\n        \"num_unique_values\": 3,\n        \"samples\": [\n          1,\n          2\n        ],\n        \"semantic_type\": \"\",\n        \"description\": \"\"\n      }\n    }\n  ]\n}"
            }
          },
          "metadata": {},
          "execution_count": 24
        }
      ],
      "source": [
        "file = 'https://proai-datasets.s3.eu-west-3.amazonaws.com/housing.csv'\n",
        "\n",
        "# read the data through pandas read_csv function\n",
        "df = pd.read_csv(file)\n",
        "\n",
        "# head shows a snapshot of data contained in the dataset\n",
        "df.head()"
      ]
    },
    {
      "cell_type": "code",
      "source": [
        "# info allows you to view some information about the dataset such as datatypes and nullable columns\n",
        "df.info()"
      ],
      "metadata": {
        "colab": {
          "base_uri": "https://localhost:8080/"
        },
        "id": "uLBJDS2HBoqn",
        "outputId": "affa929d-6a34-4028-902d-20c44b9ddf8a"
      },
      "execution_count": 25,
      "outputs": [
        {
          "output_type": "stream",
          "name": "stdout",
          "text": [
            "<class 'pandas.core.frame.DataFrame'>\n",
            "RangeIndex: 545 entries, 0 to 544\n",
            "Data columns (total 13 columns):\n",
            " #   Column            Non-Null Count  Dtype\n",
            "---  ------            --------------  -----\n",
            " 0   price             545 non-null    int64\n",
            " 1   area              545 non-null    int64\n",
            " 2   bedrooms          545 non-null    int64\n",
            " 3   bathrooms         545 non-null    int64\n",
            " 4   stories           545 non-null    int64\n",
            " 5   mainroad          545 non-null    int64\n",
            " 6   guestroom         545 non-null    int64\n",
            " 7   basement          545 non-null    int64\n",
            " 8   hotwaterheating   545 non-null    int64\n",
            " 9   airconditioning   545 non-null    int64\n",
            " 10  parking           545 non-null    int64\n",
            " 11  prefarea          545 non-null    int64\n",
            " 12  furnishingstatus  545 non-null    int64\n",
            "dtypes: int64(13)\n",
            "memory usage: 55.5 KB\n"
          ]
        }
      ]
    },
    {
      "cell_type": "markdown",
      "source": [
        "There are no categorical variables.\n",
        "All variables are numeric and furnishingstatus is an ordinal categorical variable, but it is already standardized because it contains only numeric values."
      ],
      "metadata": {
        "id": "1WcOIM8Q7rLN"
      }
    },
    {
      "cell_type": "markdown",
      "source": [
        "# Check missing data"
      ],
      "metadata": {
        "id": "NBKbWuUZ51fW"
      }
    },
    {
      "cell_type": "code",
      "source": [
        "# count all missing data for all columns\n",
        "df.isna().sum()"
      ],
      "metadata": {
        "colab": {
          "base_uri": "https://localhost:8080/",
          "height": 492
        },
        "id": "zudwEDgZ5UZt",
        "outputId": "6bd546b4-e0fe-4ea1-c05e-164314f9d72b"
      },
      "execution_count": 26,
      "outputs": [
        {
          "output_type": "execute_result",
          "data": {
            "text/plain": [
              "price               0\n",
              "area                0\n",
              "bedrooms            0\n",
              "bathrooms           0\n",
              "stories             0\n",
              "mainroad            0\n",
              "guestroom           0\n",
              "basement            0\n",
              "hotwaterheating     0\n",
              "airconditioning     0\n",
              "parking             0\n",
              "prefarea            0\n",
              "furnishingstatus    0\n",
              "dtype: int64"
            ],
            "text/html": [
              "<div>\n",
              "<style scoped>\n",
              "    .dataframe tbody tr th:only-of-type {\n",
              "        vertical-align: middle;\n",
              "    }\n",
              "\n",
              "    .dataframe tbody tr th {\n",
              "        vertical-align: top;\n",
              "    }\n",
              "\n",
              "    .dataframe thead th {\n",
              "        text-align: right;\n",
              "    }\n",
              "</style>\n",
              "<table border=\"1\" class=\"dataframe\">\n",
              "  <thead>\n",
              "    <tr style=\"text-align: right;\">\n",
              "      <th></th>\n",
              "      <th>0</th>\n",
              "    </tr>\n",
              "  </thead>\n",
              "  <tbody>\n",
              "    <tr>\n",
              "      <th>price</th>\n",
              "      <td>0</td>\n",
              "    </tr>\n",
              "    <tr>\n",
              "      <th>area</th>\n",
              "      <td>0</td>\n",
              "    </tr>\n",
              "    <tr>\n",
              "      <th>bedrooms</th>\n",
              "      <td>0</td>\n",
              "    </tr>\n",
              "    <tr>\n",
              "      <th>bathrooms</th>\n",
              "      <td>0</td>\n",
              "    </tr>\n",
              "    <tr>\n",
              "      <th>stories</th>\n",
              "      <td>0</td>\n",
              "    </tr>\n",
              "    <tr>\n",
              "      <th>mainroad</th>\n",
              "      <td>0</td>\n",
              "    </tr>\n",
              "    <tr>\n",
              "      <th>guestroom</th>\n",
              "      <td>0</td>\n",
              "    </tr>\n",
              "    <tr>\n",
              "      <th>basement</th>\n",
              "      <td>0</td>\n",
              "    </tr>\n",
              "    <tr>\n",
              "      <th>hotwaterheating</th>\n",
              "      <td>0</td>\n",
              "    </tr>\n",
              "    <tr>\n",
              "      <th>airconditioning</th>\n",
              "      <td>0</td>\n",
              "    </tr>\n",
              "    <tr>\n",
              "      <th>parking</th>\n",
              "      <td>0</td>\n",
              "    </tr>\n",
              "    <tr>\n",
              "      <th>prefarea</th>\n",
              "      <td>0</td>\n",
              "    </tr>\n",
              "    <tr>\n",
              "      <th>furnishingstatus</th>\n",
              "      <td>0</td>\n",
              "    </tr>\n",
              "  </tbody>\n",
              "</table>\n",
              "</div><br><label><b>dtype:</b> int64</label>"
            ]
          },
          "metadata": {},
          "execution_count": 26
        }
      ]
    },
    {
      "cell_type": "markdown",
      "source": [
        "No missing data"
      ],
      "metadata": {
        "id": "HsLB2kPD59z2"
      }
    },
    {
      "cell_type": "code",
      "source": [
        "df_enc = pd.get_dummies(df, columns=[\n",
        "    'mainroad', 'guestroom', 'basement',\n",
        "    'hotwaterheating', 'airconditioning',\n",
        "    'prefarea', 'furnishingstatus'], drop_first=True)"
      ],
      "metadata": {
        "id": "rOgtTB6XAVTk"
      },
      "execution_count": 27,
      "outputs": []
    },
    {
      "cell_type": "markdown",
      "source": [
        "# Standardization"
      ],
      "metadata": {
        "id": "T7_3OPQC8wf0"
      }
    },
    {
      "cell_type": "markdown",
      "source": [
        "Since I will then have to implement the Ridge, Lasso and ElasticNet regression models, I use Standardization as it is recommended for data preprocessing of the data to be input to these models"
      ],
      "metadata": {
        "id": "pzqmuw_481gm"
      }
    },
    {
      "cell_type": "code",
      "source": [
        "# import StandardScaler class from sklearn library\n",
        "from sklearn.preprocessing import StandardScaler"
      ],
      "metadata": {
        "id": "LGgEau8G80ns"
      },
      "execution_count": 28,
      "outputs": []
    },
    {
      "cell_type": "code",
      "source": [
        "# create and object StandardScaler\n",
        "ss = StandardScaler()\n",
        "\n",
        "# fit_transform first calculates mean and std through fit and then standardizes each column through tranform\n",
        "df_enc_std = ss.fit_transform(df_enc)"
      ],
      "metadata": {
        "id": "Vo5Czdr106kR"
      },
      "execution_count": 31,
      "outputs": []
    },
    {
      "cell_type": "code",
      "source": [
        "import numpy as np"
      ],
      "metadata": {
        "id": "Ov-qilas2ET4"
      },
      "execution_count": 35,
      "outputs": []
    },
    {
      "cell_type": "code",
      "source": [
        "import seaborn as sns"
      ],
      "metadata": {
        "id": "Fo2eIbOt2Sxu"
      },
      "execution_count": 39,
      "outputs": []
    },
    {
      "cell_type": "code",
      "source": [
        "df_enc_std = pd.DataFrame(df_enc_std)"
      ],
      "metadata": {
        "id": "Vv898nT12Dgu"
      },
      "execution_count": 36,
      "outputs": []
    },
    {
      "cell_type": "code",
      "source": [
        "sns.heatmap(df_enc_std.corr(), annot=True)\n",
        "\n",
        "plt.figure(figsize=(12, 8))  # imposta larghezza=12, altezza=8\n",
        "sns.heatmap(df_enc_std.corr(), annot=True)\n",
        "\n",
        "plt.title(\"Mappa di calore delle correlazioni\")\n",
        "plt.show()"
      ],
      "metadata": {
        "colab": {
          "base_uri": "https://localhost:8080/",
          "height": 1000
        },
        "id": "wt8JpqB-1Dgc",
        "outputId": "57b56adf-5457-4c48-cb2c-5bf81cf459eb"
      },
      "execution_count": 41,
      "outputs": [
        {
          "output_type": "display_data",
          "data": {
            "text/plain": [
              "<Figure size 640x480 with 2 Axes>"
            ],
            "image/png": "[encoded data removed]"
          },
          "metadata": {}
        },
        {
          "output_type": "display_data",
          "data": {
            "text/plain": [
              "<Figure size 1200x800 with 2 Axes>"
            ],
            "image/png": "[encoded data removed]"
          },
          "metadata": {}
        }
      ]
    },
    {
      "cell_type": "code",
      "source": [
        "# create dataframe x removing 'price' column (target)\n",
        "x = df_enc.drop('price', axis=1).values\n",
        "\n",
        "# create dataframe y keeping only 'price' column (target)\n",
        "y = df_enc['price'].values\n",
        "\n",
        "print(x.shape, y.shape)"
      ],
      "metadata": {
        "colab": {
          "base_uri": "https://localhost:8080/"
        },
        "id": "L7ESAZQH9EkX",
        "outputId": "a88f4232-5de6-4e8c-954e-9cb2450a81a5"
      },
      "execution_count": 29,
      "outputs": [
        {
          "output_type": "stream",
          "name": "stdout",
          "text": [
            "(545, 13) (545,)\n"
          ]
        }
      ]
    },
    {
      "cell_type": "code",
      "source": [
        "# create and object StandardScaler\n",
        "ss = StandardScaler()\n",
        "\n",
        "# fit_transform first calculates mean and std through fit and then standardizes each column through tranform\n",
        "x_std = ss.fit_transform(x)\n",
        "y_std = ss.fit_transform(y)\n",
        "\n",
        "# print mean and standard deviation\n",
        "print(f'Mean {x_std.mean():.2f}')\n",
        "print(f'Standard Deviation {x_std.std():.2f}')"
      ],
      "metadata": {
        "colab": {
          "base_uri": "https://localhost:8080/",
          "height": 1000
        },
        "id": "Fkeh3fet9ZHO",
        "outputId": "fb62b0e7-7429-4f72-d086-6a921d00668c"
      },
      "execution_count": 30,
      "outputs": [
        {
          "output_type": "error",
          "ename": "ValueError",
          "evalue": "Expected 2D array, got 1D array instead:\narray=[13300000. 12250000. 12250000. 12215000. 11410000. 10850000. 10150000.\n 10150000.  9870000.  9800000.  9800000.  9681000.  9310000.  9240000.\n  9240000.  9100000.  9100000.  8960000.  8890000.  8855000.  8750000.\n  8680000.  8645000.  8645000.  8575000.  8540000.  8463000.  8400000.\n  8400000.  8400000.  8400000.  8400000.  8295000.  8190000.  8120000.\n  8080940.  8043000.  7980000.  7962500.  7910000.  7875000.  7840000.\n  7700000.  7700000.  7560000.  7560000.  7525000.  7490000.  7455000.\n  7420000.  7420000.  7420000.  7350000.  7350000.  7350000.  7350000.\n  7343000.  7245000.  7210000.  7210000.  7140000.  7070000.  7070000.\n  7035000.  7000000.  6930000.  6930000.  6895000.  6860000.  6790000.\n  6790000.  6755000.  6720000.  6685000.  6650000.  6650000.  6650000.\n  6650000.  6650000.  6650000.  6629000.  6615000.  6615000.  6580000.\n  6510000.  6510000.  6510000.  6475000.  6475000.  6440000.  6440000.\n  6419000.  6405000.  6300000.  6300000.  6300000.  6300000.  6300000.\n  6293000.  6265000.  6230000.  6230000.  6195000.  6195000.  6195000.\n  6160000.  6160000.  6125000.  6107500.  6090000.  6090000.  6090000.\n  6083000.  6083000.  6020000.  6020000.  6020000.  5950000.  5950000.\n  5950000.  5950000.  5950000.  5950000.  5950000.  5950000.  5943000.\n  5880000.  5880000.  5873000.  5873000.  5866000.  5810000.  5810000.\n  5810000.  5803000.  5775000.  5740000.  5740000.  5740000.  5740000.\n  5740000.  5652500.  5600000.  5600000.  5600000.  5600000.  5600000.\n  5600000.  5600000.  5600000.  5600000.  5565000.  5565000.  5530000.\n  5530000.  5530000.  5523000.  5495000.  5495000.  5460000.  5460000.\n  5460000.  5460000.  5425000.  5390000.  5383000.  5320000.  5285000.\n  5250000.  5250000.  5250000.  5250000.  5250000.  5250000.  5250000.\n  5250000.  5250000.  5243000.  5229000.  5215000.  5215000.  5215000.\n  5145000.  5145000.  5110000.  5110000.  5110000.  5110000.  5075000.\n  5040000.  5040000.  5040000.  5040000.  5033000.  5005000.  4970000.\n  4970000.  4956000.  4935000.  4907000.  4900000.  4900000.  4900000.\n  4900000.  4900000.  4900000.  4900000.  4900000.  4900000.  4900000.\n  4900000.  4900000.  4893000.  4893000.  4865000.  4830000.  4830000.\n  4830000.  4830000.  4795000.  4795000.  4767000.  4760000.  4760000.\n  4760000.  4753000.  4690000.  4690000.  4690000.  4690000.  4690000.\n  4690000.  4655000.  4620000.  4620000.  4620000.  4620000.  4620000.\n  4613000.  4585000.  4585000.  4550000.  4550000.  4550000.  4550000.\n  4550000.  4550000.  4550000.  4543000.  4543000.  4515000.  4515000.\n  4515000.  4515000.  4480000.  4480000.  4480000.  4480000.  4480000.\n  4473000.  4473000.  4473000.  4445000.  4410000.  4410000.  4403000.\n  4403000.  4403000.  4382000.  4375000.  4340000.  4340000.  4340000.\n  4340000.  4340000.  4319000.  4305000.  4305000.  4277000.  4270000.\n  4270000.  4270000.  4270000.  4270000.  4270000.  4235000.  4235000.\n  4200000.  4200000.  4200000.  4200000.  4200000.  4200000.  4200000.\n  4200000.  4200000.  4200000.  4200000.  4200000.  4200000.  4200000.\n  4200000.  4200000.  4200000.  4193000.  4193000.  4165000.  4165000.\n  4165000.  4130000.  4130000.  4123000.  4098500.  4095000.  4095000.\n  4095000.  4060000.  4060000.  4060000.  4060000.  4060000.  4025000.\n  4025000.  4025000.  4007500.  4007500.  3990000.  3990000.  3990000.\n  3990000.  3990000.  3920000.  3920000.  3920000.  3920000.  3920000.\n  3920000.  3920000.  3885000.  3885000.  3850000.  3850000.  3850000.\n  3850000.  3850000.  3850000.  3850000.  3836000.  3815000.  3780000.\n  3780000.  3780000.  3780000.  3780000.  3780000.  3773000.  3773000.\n  3773000.  3745000.  3710000.  3710000.  3710000.  3710000.  3710000.\n  3703000.  3703000.  3675000.  3675000.  3675000.  3675000.  3640000.\n  3640000.  3640000.  3640000.  3640000.  3640000.  3640000.  3640000.\n  3640000.  3633000.  3605000.  3605000.  3570000.  3570000.  3570000.\n  3570000.  3535000.  3500000.  3500000.  3500000.  3500000.  3500000.\n  3500000.  3500000.  3500000.  3500000.  3500000.  3500000.  3500000.\n  3500000.  3500000.  3500000.  3500000.  3500000.  3493000.  3465000.\n  3465000.  3465000.  3430000.  3430000.  3430000.  3430000.  3430000.\n  3430000.  3423000.  3395000.  3395000.  3395000.  3360000.  3360000.\n  3360000.  3360000.  3360000.  3360000.  3360000.  3360000.  3353000.\n  3332000.  3325000.  3325000.  3290000.  3290000.  3290000.  3290000.\n  3290000.  3290000.  3290000.  3290000.  3255000.  3255000.  3234000.\n  3220000.  3220000.  3220000.  3220000.  3150000.  3150000.  3150000.\n  3150000.  3150000.  3150000.  3150000.  3150000.  3150000.  3143000.\n  3129000.  3118850.  3115000.  3115000.  3115000.  3087000.  3080000.\n  3080000.  3080000.  3080000.  3045000.  3010000.  3010000.  3010000.\n  3010000.  3010000.  3010000.  3010000.  3003000.  2975000.  2961000.\n  2940000.  2940000.  2940000.  2940000.  2940000.  2940000.  2940000.\n  2940000.  2870000.  2870000.  2870000.  2870000.  2852500.  2835000.\n  2835000.  2835000.  2800000.  2800000.  2730000.  2730000.  2695000.\n  2660000.  2660000.  2660000.  2660000.  2660000.  2660000.  2660000.\n  2653000.  2653000.  2604000.  2590000.  2590000.  2590000.  2520000.\n  2520000.  2520000.  2485000.  2485000.  2450000.  2450000.  2450000.\n  2450000.  2450000.  2450000.  2408000.  2380000.  2380000.  2380000.\n  2345000.  2310000.  2275000.  2275000.  2275000.  2240000.  2233000.\n  2135000.  2100000.  2100000.  2100000.  1960000.  1890000.  1890000.\n  1855000.  1820000.  1767150.  1750000.  1750000.  1750000.].\nReshape your data either using array.reshape(-1, 1) if your data has a single feature or array.reshape(1, -1) if it contains a single sample.",
          "traceback": [
            "\u001b[0;31m---------------------------------------------------------------------------\u001b[0m",
            "\u001b[0;31mValueError\u001b[0m                                Traceback (most recent call last)",
            "\u001b[0;32m<ipython-input-30-3066f9cd36d6>\u001b[0m in \u001b[0;36m<cell line: 0>\u001b[0;34m()\u001b[0m\n\u001b[1;32m      4\u001b[0m \u001b[0;31m# fit_transform first calculates mean and std through fit and then standardizes each column through tranform\u001b[0m\u001b[0;34m\u001b[0m\u001b[0;34m\u001b[0m\u001b[0m\n\u001b[1;32m      5\u001b[0m \u001b[0mx_std\u001b[0m \u001b[0;34m=\u001b[0m \u001b[0mss\u001b[0m\u001b[0;34m.\u001b[0m\u001b[0mfit_transform\u001b[0m\u001b[0;34m(\u001b[0m\u001b[0mx\u001b[0m\u001b[0;34m)\u001b[0m\u001b[0;34m\u001b[0m\u001b[0;34m\u001b[0m\u001b[0m\n\u001b[0;32m----> 6\u001b[0;31m \u001b[0my_std\u001b[0m \u001b[0;34m=\u001b[0m \u001b[0mss\u001b[0m\u001b[0;34m.\u001b[0m\u001b[0mfit_transform\u001b[0m\u001b[0;34m(\u001b[0m\u001b[0my\u001b[0m\u001b[0;34m)\u001b[0m\u001b[0;34m\u001b[0m\u001b[0;34m\u001b[0m\u001b[0m\n\u001b[0m\u001b[1;32m      7\u001b[0m \u001b[0;34m\u001b[0m\u001b[0m\n\u001b[1;32m      8\u001b[0m \u001b[0;31m# print mean and standard deviation\u001b[0m\u001b[0;34m\u001b[0m\u001b[0;34m\u001b[0m\u001b[0m\n",
            "\u001b[0;32m/usr/local/lib/python3.11/dist-packages/sklearn/utils/_set_output.py\u001b[0m in \u001b[0;36mwrapped\u001b[0;34m(self, X, *args, **kwargs)\u001b[0m\n\u001b[1;32m    317\u001b[0m     \u001b[0;34m@\u001b[0m\u001b[0mwraps\u001b[0m\u001b[0;34m(\u001b[0m\u001b[0mf\u001b[0m\u001b[0;34m)\u001b[0m\u001b[0;34m\u001b[0m\u001b[0;34m\u001b[0m\u001b[0m\n\u001b[1;32m    318\u001b[0m     \u001b[0;32mdef\u001b[0m \u001b[0mwrapped\u001b[0m\u001b[0;34m(\u001b[0m\u001b[0mself\u001b[0m\u001b[0;34m,\u001b[0m \u001b[0mX\u001b[0m\u001b[0;34m,\u001b[0m \u001b[0;34m*\u001b[0m\u001b[0margs\u001b[0m\u001b[0;34m,\u001b[0m \u001b[0;34m**\u001b[0m\u001b[0mkwargs\u001b[0m\u001b[0;34m)\u001b[0m\u001b[0;34m:\u001b[0m\u001b[0;34m\u001b[0m\u001b[0;34m\u001b[0m\u001b[0m\n\u001b[0;32m--> 319\u001b[0;31m         \u001b[0mdata_to_wrap\u001b[0m \u001b[0;34m=\u001b[0m \u001b[0mf\u001b[0m\u001b[0;34m(\u001b[0m\u001b[0mself\u001b[0m\u001b[0;34m,\u001b[0m \u001b[0mX\u001b[0m\u001b[0;34m,\u001b[0m \u001b[0;34m*\u001b[0m\u001b[0margs\u001b[0m\u001b[0;34m,\u001b[0m \u001b[0;34m**\u001b[0m\u001b[0mkwargs\u001b[0m\u001b[0;34m)\u001b[0m\u001b[0;34m\u001b[0m\u001b[0;34m\u001b[0m\u001b[0m\n\u001b[0m\u001b[1;32m    320\u001b[0m         \u001b[0;32mif\u001b[0m \u001b[0misinstance\u001b[0m\u001b[0;34m(\u001b[0m\u001b[0mdata_to_wrap\u001b[0m\u001b[0;34m,\u001b[0m \u001b[0mtuple\u001b[0m\u001b[0;34m)\u001b[0m\u001b[0;34m:\u001b[0m\u001b[0;34m\u001b[0m\u001b[0;34m\u001b[0m\u001b[0m\n\u001b[1;32m    321\u001b[0m             \u001b[0;31m# only wrap the first output for cross decomposition\u001b[0m\u001b[0;34m\u001b[0m\u001b[0;34m\u001b[0m\u001b[0m\n",
            "\u001b[0;32m/usr/local/lib/python3.11/dist-packages/sklearn/base.py\u001b[0m in \u001b[0;36mfit_transform\u001b[0;34m(self, X, y, **fit_params)\u001b[0m\n\u001b[1;32m    916\u001b[0m         \u001b[0;32mif\u001b[0m \u001b[0my\u001b[0m \u001b[0;32mis\u001b[0m \u001b[0;32mNone\u001b[0m\u001b[0;34m:\u001b[0m\u001b[0;34m\u001b[0m\u001b[0;34m\u001b[0m\u001b[0m\n\u001b[1;32m    917\u001b[0m             \u001b[0;31m# fit method of arity 1 (unsupervised transformation)\u001b[0m\u001b[0;34m\u001b[0m\u001b[0;34m\u001b[0m\u001b[0m\n\u001b[0;32m--> 918\u001b[0;31m             \u001b[0;32mreturn\u001b[0m \u001b[0mself\u001b[0m\u001b[0;34m.\u001b[0m\u001b[0mfit\u001b[0m\u001b[0;34m(\u001b[0m\u001b[0mX\u001b[0m\u001b[0;34m,\u001b[0m \u001b[0;34m**\u001b[0m\u001b[0mfit_params\u001b[0m\u001b[0;34m)\u001b[0m\u001b[0;34m.\u001b[0m\u001b[0mtransform\u001b[0m\u001b[0;34m(\u001b[0m\u001b[0mX\u001b[0m\u001b[0;34m)\u001b[0m\u001b[0;34m\u001b[0m\u001b[0;34m\u001b[0m\u001b[0m\n\u001b[0m\u001b[1;32m    919\u001b[0m         \u001b[0;32melse\u001b[0m\u001b[0;34m:\u001b[0m\u001b[0;34m\u001b[0m\u001b[0;34m\u001b[0m\u001b[0m\n\u001b[1;32m    920\u001b[0m             \u001b[0;31m# fit method of arity 2 (supervised transformation)\u001b[0m\u001b[0;34m\u001b[0m\u001b[0;34m\u001b[0m\u001b[0m\n",
            "\u001b[0;32m/usr/local/lib/python3.11/dist-packages/sklearn/preprocessing/_data.py\u001b[0m in \u001b[0;36mfit\u001b[0;34m(self, X, y, sample_weight)\u001b[0m\n\u001b[1;32m    892\u001b[0m         \u001b[0;31m# Reset internal state before fitting\u001b[0m\u001b[0;34m\u001b[0m\u001b[0;34m\u001b[0m\u001b[0m\n\u001b[1;32m    893\u001b[0m         \u001b[0mself\u001b[0m\u001b[0;34m.\u001b[0m\u001b[0m_reset\u001b[0m\u001b[0;34m(\u001b[0m\u001b[0;34m)\u001b[0m\u001b[0;34m\u001b[0m\u001b[0;34m\u001b[0m\u001b[0m\n\u001b[0;32m--> 894\u001b[0;31m         \u001b[0;32mreturn\u001b[0m \u001b[0mself\u001b[0m\u001b[0;34m.\u001b[0m\u001b[0mpartial_fit\u001b[0m\u001b[0;34m(\u001b[0m\u001b[0mX\u001b[0m\u001b[0;34m,\u001b[0m \u001b[0my\u001b[0m\u001b[0;34m,\u001b[0m \u001b[0msample_weight\u001b[0m\u001b[0;34m)\u001b[0m\u001b[0;34m\u001b[0m\u001b[0;34m\u001b[0m\u001b[0m\n\u001b[0m\u001b[1;32m    895\u001b[0m \u001b[0;34m\u001b[0m\u001b[0m\n\u001b[1;32m    896\u001b[0m     \u001b[0;34m@\u001b[0m\u001b[0m_fit_context\u001b[0m\u001b[0;34m(\u001b[0m\u001b[0mprefer_skip_nested_validation\u001b[0m\u001b[0;34m=\u001b[0m\u001b[0;32mTrue\u001b[0m\u001b[0;34m)\u001b[0m\u001b[0;34m\u001b[0m\u001b[0;34m\u001b[0m\u001b[0m\n",
            "\u001b[0;32m/usr/local/lib/python3.11/dist-packages/sklearn/base.py\u001b[0m in \u001b[0;36mwrapper\u001b[0;34m(estimator, *args, **kwargs)\u001b[0m\n\u001b[1;32m   1387\u001b[0m                 )\n\u001b[1;32m   1388\u001b[0m             ):\n\u001b[0;32m-> 1389\u001b[0;31m                 \u001b[0;32mreturn\u001b[0m \u001b[0mfit_method\u001b[0m\u001b[0;34m(\u001b[0m\u001b[0mestimator\u001b[0m\u001b[0;34m,\u001b[0m \u001b[0;34m*\u001b[0m\u001b[0margs\u001b[0m\u001b[0;34m,\u001b[0m \u001b[0;34m**\u001b[0m\u001b[0mkwargs\u001b[0m\u001b[0;34m)\u001b[0m\u001b[0;34m\u001b[0m\u001b[0;34m\u001b[0m\u001b[0m\n\u001b[0m\u001b[1;32m   1390\u001b[0m \u001b[0;34m\u001b[0m\u001b[0m\n\u001b[1;32m   1391\u001b[0m         \u001b[0;32mreturn\u001b[0m \u001b[0mwrapper\u001b[0m\u001b[0;34m\u001b[0m\u001b[0;34m\u001b[0m\u001b[0m\n",
            "\u001b[0;32m/usr/local/lib/python3.11/dist-packages/sklearn/preprocessing/_data.py\u001b[0m in \u001b[0;36mpartial_fit\u001b[0;34m(self, X, y, sample_weight)\u001b[0m\n\u001b[1;32m    928\u001b[0m         \"\"\"\n\u001b[1;32m    929\u001b[0m         \u001b[0mfirst_call\u001b[0m \u001b[0;34m=\u001b[0m \u001b[0;32mnot\u001b[0m \u001b[0mhasattr\u001b[0m\u001b[0;34m(\u001b[0m\u001b[0mself\u001b[0m\u001b[0;34m,\u001b[0m \u001b[0;34m\"n_samples_seen_\"\u001b[0m\u001b[0;34m)\u001b[0m\u001b[0;34m\u001b[0m\u001b[0;34m\u001b[0m\u001b[0m\n\u001b[0;32m--> 930\u001b[0;31m         X = validate_data(\n\u001b[0m\u001b[1;32m    931\u001b[0m             \u001b[0mself\u001b[0m\u001b[0;34m,\u001b[0m\u001b[0;34m\u001b[0m\u001b[0;34m\u001b[0m\u001b[0m\n\u001b[1;32m    932\u001b[0m             \u001b[0mX\u001b[0m\u001b[0;34m,\u001b[0m\u001b[0;34m\u001b[0m\u001b[0;34m\u001b[0m\u001b[0m\n",
            "\u001b[0;32m/usr/local/lib/python3.11/dist-packages/sklearn/utils/validation.py\u001b[0m in \u001b[0;36mvalidate_data\u001b[0;34m(_estimator, X, y, reset, validate_separately, skip_check_array, **check_params)\u001b[0m\n\u001b[1;32m   2942\u001b[0m             \u001b[0mout\u001b[0m \u001b[0;34m=\u001b[0m \u001b[0mX\u001b[0m\u001b[0;34m,\u001b[0m \u001b[0my\u001b[0m\u001b[0;34m\u001b[0m\u001b[0;34m\u001b[0m\u001b[0m\n\u001b[1;32m   2943\u001b[0m     \u001b[0;32melif\u001b[0m \u001b[0;32mnot\u001b[0m \u001b[0mno_val_X\u001b[0m \u001b[0;32mand\u001b[0m \u001b[0mno_val_y\u001b[0m\u001b[0;34m:\u001b[0m\u001b[0;34m\u001b[0m\u001b[0;34m\u001b[0m\u001b[0m\n\u001b[0;32m-> 2944\u001b[0;31m         \u001b[0mout\u001b[0m \u001b[0;34m=\u001b[0m \u001b[0mcheck_array\u001b[0m\u001b[0;34m(\u001b[0m\u001b[0mX\u001b[0m\u001b[0;34m,\u001b[0m \u001b[0minput_name\u001b[0m\u001b[0;34m=\u001b[0m\u001b[0;34m\"X\"\u001b[0m\u001b[0;34m,\u001b[0m \u001b[0;34m**\u001b[0m\u001b[0mcheck_params\u001b[0m\u001b[0;34m)\u001b[0m\u001b[0;34m\u001b[0m\u001b[0;34m\u001b[0m\u001b[0m\n\u001b[0m\u001b[1;32m   2945\u001b[0m     \u001b[0;32melif\u001b[0m \u001b[0mno_val_X\u001b[0m \u001b[0;32mand\u001b[0m \u001b[0;32mnot\u001b[0m \u001b[0mno_val_y\u001b[0m\u001b[0;34m:\u001b[0m\u001b[0;34m\u001b[0m\u001b[0;34m\u001b[0m\u001b[0m\n\u001b[1;32m   2946\u001b[0m         \u001b[0mout\u001b[0m \u001b[0;34m=\u001b[0m \u001b[0m_check_y\u001b[0m\u001b[0;34m(\u001b[0m\u001b[0my\u001b[0m\u001b[0;34m,\u001b[0m \u001b[0;34m**\u001b[0m\u001b[0mcheck_params\u001b[0m\u001b[0;34m)\u001b[0m\u001b[0;34m\u001b[0m\u001b[0;34m\u001b[0m\u001b[0m\n",
            "\u001b[0;32m/usr/local/lib/python3.11/dist-packages/sklearn/utils/validation.py\u001b[0m in \u001b[0;36mcheck_array\u001b[0;34m(array, accept_sparse, accept_large_sparse, dtype, order, copy, force_writeable, force_all_finite, ensure_all_finite, ensure_non_negative, ensure_2d, allow_nd, ensure_min_samples, ensure_min_features, estimator, input_name)\u001b[0m\n\u001b[1;32m   1091\u001b[0m                         \u001b[0;34m\"if it contains a single sample.\"\u001b[0m\u001b[0;34m\u001b[0m\u001b[0;34m\u001b[0m\u001b[0m\n\u001b[1;32m   1092\u001b[0m                     )\n\u001b[0;32m-> 1093\u001b[0;31m                 \u001b[0;32mraise\u001b[0m \u001b[0mValueError\u001b[0m\u001b[0;34m(\u001b[0m\u001b[0mmsg\u001b[0m\u001b[0;34m)\u001b[0m\u001b[0;34m\u001b[0m\u001b[0;34m\u001b[0m\u001b[0m\n\u001b[0m\u001b[1;32m   1094\u001b[0m \u001b[0;34m\u001b[0m\u001b[0m\n\u001b[1;32m   1095\u001b[0m         \u001b[0;32mif\u001b[0m \u001b[0mdtype_numeric\u001b[0m \u001b[0;32mand\u001b[0m \u001b[0mhasattr\u001b[0m\u001b[0;34m(\u001b[0m\u001b[0marray\u001b[0m\u001b[0;34m.\u001b[0m\u001b[0mdtype\u001b[0m\u001b[0;34m,\u001b[0m \u001b[0;34m\"kind\"\u001b[0m\u001b[0;34m)\u001b[0m \u001b[0;32mand\u001b[0m \u001b[0marray\u001b[0m\u001b[0;34m.\u001b[0m\u001b[0mdtype\u001b[0m\u001b[0;34m.\u001b[0m\u001b[0mkind\u001b[0m \u001b[0;32min\u001b[0m \u001b[0;34m\"USV\"\u001b[0m\u001b[0;34m:\u001b[0m\u001b[0;34m\u001b[0m\u001b[0;34m\u001b[0m\u001b[0m\n",
            "\u001b[0;31mValueError\u001b[0m: Expected 2D array, got 1D array instead:\narray=[13300000. 12250000. 12250000. 12215000. 11410000. 10850000. 10150000.\n 10150000.  9870000.  9800000.  9800000.  9681000.  9310000.  9240000.\n  9240000.  9100000.  9100000.  8960000.  8890000.  8855000.  8750000.\n  8680000.  8645000.  8645000.  8575000.  8540000.  8463000.  8400000.\n  8400000.  8400000.  8400000.  8400000.  8295000.  8190000.  8120000.\n  8080940.  8043000.  7980000.  7962500.  7910000.  7875000.  7840000.\n  7700000.  7700000.  7560000.  7560000.  7525000.  7490000.  7455000.\n  7420000.  7420000.  7420000.  7350000.  7350000.  7350000.  7350000.\n  7343000.  7245000.  7210000.  7210000.  7140000.  7070000.  7070000.\n  7035000.  7000000.  6930000.  6930000.  6895000.  6860000.  6790000.\n  6790000.  6755000.  6720000.  6685000.  6650000.  6650000.  6650000.\n  6650000.  6650000.  6650000.  6629000.  6615000.  6615000.  6580000.\n  6510000.  6510000.  6510000.  6475000.  6475000.  6440000.  6440000.\n  6419000.  6405000.  6300000.  6300000.  6300000.  6300000.  6300000.\n  6293000.  6265000.  6230000.  6230000.  6195000.  6195000.  6195000.\n  6160000.  6160000.  6125000.  6107500.  6090000.  6090000.  6090000.\n  6083000.  6083000.  6020000.  6020000.  6020000.  5950000.  5950000.\n  5950000.  5950000.  5950000.  5950000.  5950000.  5950000.  5943000.\n  5880000.  5880000.  5873000.  5873000.  5866000.  5810000.  5810000.\n  5810000.  5803000.  5775000.  5740000.  5740000.  5740000.  5740000.\n  5740000.  5652500.  5600000.  5600000.  5600000.  5600000.  5600000.\n  5600000.  5600000.  5600000.  5600000.  5565000.  5565000.  5530000.\n  5530000.  5530000.  5523000.  5495000.  5495000.  5460000.  5460000.\n  5460000.  5460000.  5425000.  5390000.  5383000.  5320000.  5285000.\n  5250000.  5250000.  5250000.  5250000.  5250000.  5250000.  5250000.\n  5250000.  5250000.  5243000.  5229000.  5215000.  5215000.  5215000.\n  5145000.  5145000.  5110000.  5110000.  5110000.  5110000.  5075000.\n  5040000.  5040000.  5040000.  5040000.  5033000.  5005000.  4970000.\n  4970000.  4956000.  4935000.  4907000.  4900000.  4900000.  4900000.\n  4900000.  4900000.  4900000.  4900000.  4900000.  4900000.  4900000.\n  4900000.  4900000.  4893000.  4893000.  4865000.  4830000.  4830000.\n  4830000.  4830000.  4795000.  4795000.  4767000.  4760000.  4760000.\n  4760000.  4753000.  4690000.  4690000.  4690000.  4690000.  4690000.\n  4690000.  4655000.  4620000.  4620000.  4620000.  4620000.  4620000.\n  4613000.  4585000.  4585000.  4550000.  4550000.  4550000.  4550000.\n  4550000.  4550000.  4550000.  4543000.  4543000.  4515000.  4515000.\n  4515000.  4515000.  4480000.  4480000.  4480000.  4480000.  4480000.\n  4473000.  4473000.  4473000.  4445000.  4410000.  4410000.  4403000.\n  4403000.  4403000.  4382000.  4375000.  4340000.  4340000.  4340000.\n  4340000.  4340000.  4319000.  4305000.  4305000.  4277000.  4270000.\n  4270000.  4270000.  4270000.  4270000.  4270000.  4235000.  4235000.\n  4200000.  4200000.  4200000.  4200000.  4200000.  4200000.  4200000.\n  4200000.  4200000.  4200000.  4200000.  4200000.  4200000.  4200000.\n  4200000.  4200000.  4200000.  4193000.  4193000.  4165000.  4165000.\n  4165000.  4130000.  4130000.  4123000.  4098500.  4095000.  4095000.\n  4095000.  4060000.  4060000.  4060000.  4060000.  4060000.  4025000.\n  4025000.  4025000.  4007500.  4007500.  3990000.  3990000.  3990000.\n  3990000.  3990000.  3920000.  3920000.  3920000.  3920000.  3920000.\n  3920000.  3920000.  3885000.  3885000.  3850000.  3850000.  3850000.\n  3850000.  3850000.  3850000.  3850000.  3836000.  3815000.  3780000.\n  3780000.  3780000.  3780000.  3780000.  3780000.  3773000.  3773000.\n  3773000.  3745000.  3710000.  3710000.  3710000.  3710000.  3710000.\n  3703000.  3703000.  3675000.  3675000.  3675000.  3675000.  3640000.\n  3640000.  3640000.  3640000.  3640000.  3640000.  3640000.  3640000.\n  3640000.  3633000.  3605000.  3605000.  3570000.  3570000.  3570000.\n  3570000.  3535000.  3500000.  3500000.  3500000.  3500000.  3500000.\n  3500000.  3500000.  3500000.  3500000.  3500000.  3500000.  3500000.\n  3500000.  3500000.  3500000.  3500000.  3500000.  3493000.  3465000.\n  3465000.  3465000.  3430000.  3430000.  3430000.  3430000.  3430000.\n  3430000.  3423000.  3395000.  3395000.  3395000.  3360000.  3360000.\n  3360000.  3360000.  3360000.  3360000.  3360000.  3360000.  3353000.\n  3332000.  3325000.  3325000.  3290000.  3290000.  3290000.  3290000.\n  3290000.  3290000.  3290000.  3290000.  3255000.  3255000.  3234000.\n  3220000.  3220000.  3220000.  3220000.  3150000.  3150000.  3150000.\n  3150000.  3150000.  3150000.  3150000.  3150000.  3150000.  3143000.\n  3129000.  3118850.  3115000.  3115000.  3115000.  3087000.  3080000.\n  3080000.  3080000.  3080000.  3045000.  3010000.  3010000.  3010000.\n  3010000.  3010000.  3010000.  3010000.  3003000.  2975000.  2961000.\n  2940000.  2940000.  2940000.  2940000.  2940000.  2940000.  2940000.\n  2940000.  2870000.  2870000.  2870000.  2870000.  2852500.  2835000.\n  2835000.  2835000.  2800000.  2800000.  2730000.  2730000.  2695000.\n  2660000.  2660000.  2660000.  2660000.  2660000.  2660000.  2660000.\n  2653000.  2653000.  2604000.  2590000.  2590000.  2590000.  2520000.\n  2520000.  2520000.  2485000.  2485000.  2450000.  2450000.  2450000.\n  2450000.  2450000.  2450000.  2408000.  2380000.  2380000.  2380000.\n  2345000.  2310000.  2275000.  2275000.  2275000.  2240000.  2233000.\n  2135000.  2100000.  2100000.  2100000.  1960000.  1890000.  1890000.\n  1855000.  1820000.  1767150.  1750000.  1750000.  1750000.].\nReshape your data either using array.reshape(-1, 1) if your data has a single feature or array.reshape(1, -1) if it contains a single sample."
          ]
        }
      ]
    },
    {
      "cell_type": "code",
      "source": [
        "import matplotlib.pyplot as plt"
      ],
      "metadata": {
        "id": "1JEWJbq2yLlK"
      },
      "execution_count": 7,
      "outputs": []
    },
    {
      "cell_type": "code",
      "source": [
        "x_val = x.values\n",
        "y_val = y.values"
      ],
      "metadata": {
        "id": "czTqHfIzzEme"
      },
      "execution_count": 9,
      "outputs": []
    },
    {
      "cell_type": "code",
      "source": [
        "plt.plot(x['area'], y_val)"
      ],
      "metadata": {
        "colab": {
          "base_uri": "https://localhost:8080/",
          "height": 141
        },
        "id": "APbkjmnoyPjZ",
        "outputId": "ed1cd90f-98a7-4e8f-ffc8-1efeee24c030"
      },
      "execution_count": 43,
      "outputs": [
        {
          "output_type": "error",
          "ename": "IndexError",
          "evalue": "only integers, slices (`:`), ellipsis (`...`), numpy.newaxis (`None`) and integer or boolean arrays are valid indices",
          "traceback": [
            "\u001b[0;31m---------------------------------------------------------------------------\u001b[0m",
            "\u001b[0;31mIndexError\u001b[0m                                Traceback (most recent call last)",
            "\u001b[0;32m<ipython-input-43-c55d10f39443>\u001b[0m in \u001b[0;36m<cell line: 0>\u001b[0;34m()\u001b[0m\n\u001b[0;32m----> 1\u001b[0;31m \u001b[0mplt\u001b[0m\u001b[0;34m.\u001b[0m\u001b[0mplot\u001b[0m\u001b[0;34m(\u001b[0m\u001b[0mx\u001b[0m\u001b[0;34m[\u001b[0m\u001b[0;34m'area'\u001b[0m\u001b[0;34m]\u001b[0m\u001b[0;34m,\u001b[0m \u001b[0my_val\u001b[0m\u001b[0;34m)\u001b[0m\u001b[0;34m\u001b[0m\u001b[0;34m\u001b[0m\u001b[0m\n\u001b[0m",
            "\u001b[0;31mIndexError\u001b[0m: only integers, slices (`:`), ellipsis (`...`), numpy.newaxis (`None`) and integer or boolean arrays are valid indices"
          ]
        }
      ]
    },
    {
      "cell_type": "markdown",
      "source": [
        "# Linear Regression"
      ],
      "metadata": {
        "id": "MqRCEWzsRONG"
      }
    },
    {
      "cell_type": "code",
      "source": [
        "# import train_test_split class from sklearn library\n",
        "from sklearn.model_selection import train_test_split"
      ],
      "metadata": {
        "id": "3uIk0ZzZGkXA"
      },
      "execution_count": 12,
      "outputs": []
    },
    {
      "cell_type": "markdown",
      "source": [
        "Random seed is a value that is set to make the results reproducible when using functions that involve random numbers. This allows, at each run, to have the same data both in the training phase and in the testing phase so as to be able to compare the different models applied to the data"
      ],
      "metadata": {
        "id": "nS6n0Fq5FrnE"
      }
    },
    {
      "cell_type": "code",
      "source": [
        "random_seed = 0"
      ],
      "metadata": {
        "id": "-wz_Fwv-FGNb"
      },
      "execution_count": 13,
      "outputs": []
    },
    {
      "cell_type": "code",
      "source": [
        "# split dataset in two parts: train and test\n",
        "# assign 30% of the data to the test set and the remaining to the training set\n",
        "# apply random_seed\n",
        "x_train, x_test, y_train, y_test = train_test_split(\n",
        "    x_std,\n",
        "    y,\n",
        "    test_size=.3,\n",
        "    random_state=random_seed\n",
        "    )\n",
        "\n",
        "print(x_train.shape, x_test.shape, y_train.shape, y_test.shape)"
      ],
      "metadata": {
        "colab": {
          "base_uri": "https://localhost:8080/"
        },
        "id": "iv37w68tF41R",
        "outputId": "9a9b4afe-4b0e-4351-810f-37480edfa086"
      },
      "execution_count": 14,
      "outputs": [
        {
          "output_type": "stream",
          "name": "stdout",
          "text": [
            "(381, 13) (164, 13) (381,) (164,)\n"
          ]
        }
      ]
    },
    {
      "cell_type": "markdown",
      "source": [
        "Apply standardization to train and test dataset so that all variables contribute equally to the regression and regularization (for example area may have too large values than bathrooms or bedrooms but it' not more important)"
      ],
      "metadata": {
        "id": "8hX8HV7CI4cy"
      }
    },
    {
      "cell_type": "code",
      "source": [
        "# apply standardization to train and test dataset so that all variables contribute equally to the regression and regularization\n",
        "x_train = ss.fit_transform(x_train)\n",
        "x_test = ss.transform(x_test)"
      ],
      "metadata": {
        "id": "WiGdmYQeIV_B"
      },
      "execution_count": 15,
      "outputs": []
    },
    {
      "cell_type": "code",
      "source": [
        "# import mean_squared_error and r2_score metrics from sklearn library\n",
        "from sklearn.metrics import mean_squared_error, r2_score"
      ],
      "metadata": {
        "id": "eO-0hoMDJgzE"
      },
      "execution_count": 16,
      "outputs": []
    },
    {
      "cell_type": "code",
      "source": [
        "# import numpy library\n",
        "import numpy as np"
      ],
      "metadata": {
        "id": "DcOFSnS0JtqI"
      },
      "execution_count": null,
      "outputs": []
    },
    {
      "cell_type": "code",
      "source": [
        "# create a evaluate_model function that:\n",
        "def evaluate_model(model, dataset):\n",
        "\n",
        "  # assign features dataset to x and target values dataset to y\n",
        "  x, y = dataset\n",
        "\n",
        "  # make predictions based on dataset features\n",
        "  y_pred = model.predict(x)\n",
        "\n",
        "  # calculate and print RMSE, rounded to 3 decimal places\n",
        "  print(f'RMSE: {np.sqrt(mean_squared_error(y, y_pred)):.3f}')\n",
        "  # calculate and print MSE, rounded to 3 decimal places\n",
        "  print(f'MSE: {mean_squared_error(y, y_pred):.3f}')\n",
        "  # calculate and print R2, rounded to 3 decimal places\n",
        "  print(f'R2: {r2_score(y, y_pred):.3f}')\n",
        "  # calculate non-zero coefficients as the ratio of the non-zero coefficients of the model to the total\n",
        "  print(f'Non-zero coefficients: {np.sum(model.coef_ != 0) / len(model.coef_)}')"
      ],
      "metadata": {
        "id": "e5HEhz2sJafC"
      },
      "execution_count": null,
      "outputs": []
    },
    {
      "cell_type": "code",
      "source": [
        "print(\"Numero di feature:\", x_train.shape[1])\n",
        "print(\"Lunghezza dei coefficienti:\", len(model.coef_))\n",
        "print(\"Coefficiente non nulli:\", np.sum(model.coef_ != 0))\n"
      ],
      "metadata": {
        "colab": {
          "base_uri": "https://localhost:8080/"
        },
        "id": "1Ehf_-WhA4GB",
        "outputId": "30e46e92-8f29-4337-dffc-96586762fe28"
      },
      "execution_count": null,
      "outputs": [
        {
          "output_type": "stream",
          "name": "stdout",
          "text": [
            "Numero di feature: 13\n",
            "Lunghezza dei coefficienti: 13\n",
            "Coefficiente non nulli: 13\n"
          ]
        }
      ]
    },
    {
      "cell_type": "code",
      "source": [
        "model.coef_"
      ],
      "metadata": {
        "colab": {
          "base_uri": "https://localhost:8080/"
        },
        "id": "3RIqqZuSBBcc",
        "outputId": "df540d8a-7503-41e5-8a88-541f6cebc1e3"
      },
      "execution_count": null,
      "outputs": [
        {
          "output_type": "execute_result",
          "data": {
            "text/plain": [
              "array([478386.53381877,  86896.49574783, 444993.21167143, 308436.1655397 ,\n",
              "       171033.421595  , 106045.66072825, 105725.86485842, 106121.05219287,\n",
              "       154363.9041883 , 365966.73449702, 257609.89909976,  59979.80524448,\n",
              "        19675.74370274])"
            ]
          },
          "metadata": {},
          "execution_count": 73
        }
      ]
    },
    {
      "cell_type": "code",
      "source": [
        "# import LinearRegression class from sklearn library\n",
        "from sklearn.linear_model import LinearRegression"
      ],
      "metadata": {
        "id": "89wu0GkgJ-rH"
      },
      "execution_count": null,
      "outputs": []
    },
    {
      "cell_type": "code",
      "source": [
        "# create and object LinearRegression\n",
        "lr = LinearRegression()\n",
        "lr.fit(x_train, y_train)"
      ],
      "metadata": {
        "colab": {
          "base_uri": "https://localhost:8080/",
          "height": 80
        },
        "id": "D9P0ODsQPj4d",
        "outputId": "948cc20e-07b6-4537-aa4a-2d5a777b8f45"
      },
      "execution_count": null,
      "outputs": [
        {
          "output_type": "execute_result",
          "data": {
            "text/plain": [
              "LinearRegression()"
            ],
            "text/html": [
              "<style>#sk-container-id-3 {\n",
              "  /* Definition of color scheme common for light and dark mode */\n",
              "  --sklearn-color-text: #000;\n",
              "  --sklearn-color-text-muted: #666;\n",
              "  --sklearn-color-line: gray;\n",
              "  /* Definition of color scheme for unfitted estimators */\n",
              "  --sklearn-color-unfitted-level-0: #fff5e6;\n",
              "  --sklearn-color-unfitted-level-1: #f6e4d2;\n",
              "  --sklearn-color-unfitted-level-2: #ffe0b3;\n",
              "  --sklearn-color-unfitted-level-3: chocolate;\n",
              "  /* Definition of color scheme for fitted estimators */\n",
              "  --sklearn-color-fitted-level-0: #f0f8ff;\n",
              "  --sklearn-color-fitted-level-1: #d4ebff;\n",
              "  --sklearn-color-fitted-level-2: #b3dbfd;\n",
              "  --sklearn-color-fitted-level-3: cornflowerblue;\n",
              "\n",
              "  /* Specific color for light theme */\n",
              "  --sklearn-color-text-on-default-background: var(--sg-text-color, var(--theme-code-foreground, var(--jp-content-font-color1, black)));\n",
              "  --sklearn-color-background: var(--sg-background-color, var(--theme-background, var(--jp-layout-color0, white)));\n",
              "  --sklearn-color-border-box: var(--sg-text-color, var(--theme-code-foreground, var(--jp-content-font-color1, black)));\n",
              "  --sklearn-color-icon: #696969;\n",
              "\n",
              "  @media (prefers-color-scheme: dark) {\n",
              "    /* Redefinition of color scheme for dark theme */\n",
              "    --sklearn-color-text-on-default-background: var(--sg-text-color, var(--theme-code-foreground, var(--jp-content-font-color1, white)));\n",
              "    --sklearn-color-background: var(--sg-background-color, var(--theme-background, var(--jp-layout-color0, #111)));\n",
              "    --sklearn-color-border-box: var(--sg-text-color, var(--theme-code-foreground, var(--jp-content-font-color1, white)));\n",
              "    --sklearn-color-icon: #878787;\n",
              "  }\n",
              "}\n",
              "\n",
              "#sk-container-id-3 {\n",
              "  color: var(--sklearn-color-text);\n",
              "}\n",
              "\n",
              "#sk-container-id-3 pre {\n",
              "  padding: 0;\n",
              "}\n",
              "\n",
              "#sk-container-id-3 input.sk-hidden--visually {\n",
              "  border: 0;\n",
              "  clip: rect(1px 1px 1px 1px);\n",
              "  clip: rect(1px, 1px, 1px, 1px);\n",
              "  height: 1px;\n",
              "  margin: -1px;\n",
              "  overflow: hidden;\n",
              "  padding: 0;\n",
              "  position: absolute;\n",
              "  width: 1px;\n",
              "}\n",
              "\n",
              "#sk-container-id-3 div.sk-dashed-wrapped {\n",
              "  border: 1px dashed var(--sklearn-color-line);\n",
              "  margin: 0 0.4em 0.5em 0.4em;\n",
              "  box-sizing: border-box;\n",
              "  padding-bottom: 0.4em;\n",
              "  background-color: var(--sklearn-color-background);\n",
              "}\n",
              "\n",
              "#sk-container-id-3 div.sk-container {\n",
              "  /* jupyter's `normalize.less` sets `[hidden] { display: none; }`\n",
              "     but bootstrap.min.css set `[hidden] { display: none !important; }`\n",
              "     so we also need the `!important` here to be able to override the\n",
              "     default hidden behavior on the sphinx rendered scikit-learn.org.\n",
              "     See: https://github.com/scikit-learn/scikit-learn/issues/21755 */\n",
              "  display: inline-block !important;\n",
              "  position: relative;\n",
              "}\n",
              "\n",
              "#sk-container-id-3 div.sk-text-repr-fallback {\n",
              "  display: none;\n",
              "}\n",
              "\n",
              "div.sk-parallel-item,\n",
              "div.sk-serial,\n",
              "div.sk-item {\n",
              "  /* draw centered vertical line to link estimators */\n",
              "  background-image: linear-gradient(var(--sklearn-color-text-on-default-background), var(--sklearn-color-text-on-default-background));\n",
              "  background-size: 2px 100%;\n",
              "  background-repeat: no-repeat;\n",
              "  background-position: center center;\n",
              "}\n",
              "\n",
              "/* Parallel-specific style estimator block */\n",
              "\n",
              "#sk-container-id-3 div.sk-parallel-item::after {\n",
              "  content: \"\";\n",
              "  width: 100%;\n",
              "  border-bottom: 2px solid var(--sklearn-color-text-on-default-background);\n",
              "  flex-grow: 1;\n",
              "}\n",
              "\n",
              "#sk-container-id-3 div.sk-parallel {\n",
              "  display: flex;\n",
              "  align-items: stretch;\n",
              "  justify-content: center;\n",
              "  background-color: var(--sklearn-color-background);\n",
              "  position: relative;\n",
              "}\n",
              "\n",
              "#sk-container-id-3 div.sk-parallel-item {\n",
              "  display: flex;\n",
              "  flex-direction: column;\n",
              "}\n",
              "\n",
              "#sk-container-id-3 div.sk-parallel-item:first-child::after {\n",
              "  align-self: flex-end;\n",
              "  width: 50%;\n",
              "}\n",
              "\n",
              "#sk-container-id-3 div.sk-parallel-item:last-child::after {\n",
              "  align-self: flex-start;\n",
              "  width: 50%;\n",
              "}\n",
              "\n",
              "#sk-container-id-3 div.sk-parallel-item:only-child::after {\n",
              "  width: 0;\n",
              "}\n",
              "\n",
              "/* Serial-specific style estimator block */\n",
              "\n",
              "#sk-container-id-3 div.sk-serial {\n",
              "  display: flex;\n",
              "  flex-direction: column;\n",
              "  align-items: center;\n",
              "  background-color: var(--sklearn-color-background);\n",
              "  padding-right: 1em;\n",
              "  padding-left: 1em;\n",
              "}\n",
              "\n",
              "\n",
              "/* Toggleable style: style used for estimator/Pipeline/ColumnTransformer box that is\n",
              "clickable and can be expanded/collapsed.\n",
              "- Pipeline and ColumnTransformer use this feature and define the default style\n",
              "- Estimators will overwrite some part of the style using the `sk-estimator` class\n",
              "*/\n",
              "\n",
              "/* Pipeline and ColumnTransformer style (default) */\n",
              "\n",
              "#sk-container-id-3 div.sk-toggleable {\n",
              "  /* Default theme specific background. It is overwritten whether we have a\n",
              "  specific estimator or a Pipeline/ColumnTransformer */\n",
              "  background-color: var(--sklearn-color-background);\n",
              "}\n",
              "\n",
              "/* Toggleable label */\n",
              "#sk-container-id-3 label.sk-toggleable__label {\n",
              "  cursor: pointer;\n",
              "  display: flex;\n",
              "  width: 100%;\n",
              "  margin-bottom: 0;\n",
              "  padding: 0.5em;\n",
              "  box-sizing: border-box;\n",
              "  text-align: center;\n",
              "  align-items: start;\n",
              "  justify-content: space-between;\n",
              "  gap: 0.5em;\n",
              "}\n",
              "\n",
              "#sk-container-id-3 label.sk-toggleable__label .caption {\n",
              "  font-size: 0.6rem;\n",
              "  font-weight: lighter;\n",
              "  color: var(--sklearn-color-text-muted);\n",
              "}\n",
              "\n",
              "#sk-container-id-3 label.sk-toggleable__label-arrow:before {\n",
              "  /* Arrow on the left of the label */\n",
              "  content: \"▸\";\n",
              "  float: left;\n",
              "  margin-right: 0.25em;\n",
              "  color: var(--sklearn-color-icon);\n",
              "}\n",
              "\n",
              "#sk-container-id-3 label.sk-toggleable__label-arrow:hover:before {\n",
              "  color: var(--sklearn-color-text);\n",
              "}\n",
              "\n",
              "/* Toggleable content - dropdown */\n",
              "\n",
              "#sk-container-id-3 div.sk-toggleable__content {\n",
              "  max-height: 0;\n",
              "  max-width: 0;\n",
              "  overflow: hidden;\n",
              "  text-align: left;\n",
              "  /* unfitted */\n",
              "  background-color: var(--sklearn-color-unfitted-level-0);\n",
              "}\n",
              "\n",
              "#sk-container-id-3 div.sk-toggleable__content.fitted {\n",
              "  /* fitted */\n",
              "  background-color: var(--sklearn-color-fitted-level-0);\n",
              "}\n",
              "\n",
              "#sk-container-id-3 div.sk-toggleable__content pre {\n",
              "  margin: 0.2em;\n",
              "  border-radius: 0.25em;\n",
              "  color: var(--sklearn-color-text);\n",
              "  /* unfitted */\n",
              "  background-color: var(--sklearn-color-unfitted-level-0);\n",
              "}\n",
              "\n",
              "#sk-container-id-3 div.sk-toggleable__content.fitted pre {\n",
              "  /* unfitted */\n",
              "  background-color: var(--sklearn-color-fitted-level-0);\n",
              "}\n",
              "\n",
              "#sk-container-id-3 input.sk-toggleable__control:checked~div.sk-toggleable__content {\n",
              "  /* Expand drop-down */\n",
              "  max-height: 200px;\n",
              "  max-width: 100%;\n",
              "  overflow: auto;\n",
              "}\n",
              "\n",
              "#sk-container-id-3 input.sk-toggleable__control:checked~label.sk-toggleable__label-arrow:before {\n",
              "  content: \"▾\";\n",
              "}\n",
              "\n",
              "/* Pipeline/ColumnTransformer-specific style */\n",
              "\n",
              "#sk-container-id-3 div.sk-label input.sk-toggleable__control:checked~label.sk-toggleable__label {\n",
              "  color: var(--sklearn-color-text);\n",
              "  background-color: var(--sklearn-color-unfitted-level-2);\n",
              "}\n",
              "\n",
              "#sk-container-id-3 div.sk-label.fitted input.sk-toggleable__control:checked~label.sk-toggleable__label {\n",
              "  background-color: var(--sklearn-color-fitted-level-2);\n",
              "}\n",
              "\n",
              "/* Estimator-specific style */\n",
              "\n",
              "/* Colorize estimator box */\n",
              "#sk-container-id-3 div.sk-estimator input.sk-toggleable__control:checked~label.sk-toggleable__label {\n",
              "  /* unfitted */\n",
              "  background-color: var(--sklearn-color-unfitted-level-2);\n",
              "}\n",
              "\n",
              "#sk-container-id-3 div.sk-estimator.fitted input.sk-toggleable__control:checked~label.sk-toggleable__label {\n",
              "  /* fitted */\n",
              "  background-color: var(--sklearn-color-fitted-level-2);\n",
              "}\n",
              "\n",
              "#sk-container-id-3 div.sk-label label.sk-toggleable__label,\n",
              "#sk-container-id-3 div.sk-label label {\n",
              "  /* The background is the default theme color */\n",
              "  color: var(--sklearn-color-text-on-default-background);\n",
              "}\n",
              "\n",
              "/* On hover, darken the color of the background */\n",
              "#sk-container-id-3 div.sk-label:hover label.sk-toggleable__label {\n",
              "  color: var(--sklearn-color-text);\n",
              "  background-color: var(--sklearn-color-unfitted-level-2);\n",
              "}\n",
              "\n",
              "/* Label box, darken color on hover, fitted */\n",
              "#sk-container-id-3 div.sk-label.fitted:hover label.sk-toggleable__label.fitted {\n",
              "  color: var(--sklearn-color-text);\n",
              "  background-color: var(--sklearn-color-fitted-level-2);\n",
              "}\n",
              "\n",
              "/* Estimator label */\n",
              "\n",
              "#sk-container-id-3 div.sk-label label {\n",
              "  font-family: monospace;\n",
              "  font-weight: bold;\n",
              "  display: inline-block;\n",
              "  line-height: 1.2em;\n",
              "}\n",
              "\n",
              "#sk-container-id-3 div.sk-label-container {\n",
              "  text-align: center;\n",
              "}\n",
              "\n",
              "/* Estimator-specific */\n",
              "#sk-container-id-3 div.sk-estimator {\n",
              "  font-family: monospace;\n",
              "  border: 1px dotted var(--sklearn-color-border-box);\n",
              "  border-radius: 0.25em;\n",
              "  box-sizing: border-box;\n",
              "  margin-bottom: 0.5em;\n",
              "  /* unfitted */\n",
              "  background-color: var(--sklearn-color-unfitted-level-0);\n",
              "}\n",
              "\n",
              "#sk-container-id-3 div.sk-estimator.fitted {\n",
              "  /* fitted */\n",
              "  background-color: var(--sklearn-color-fitted-level-0);\n",
              "}\n",
              "\n",
              "/* on hover */\n",
              "#sk-container-id-3 div.sk-estimator:hover {\n",
              "  /* unfitted */\n",
              "  background-color: var(--sklearn-color-unfitted-level-2);\n",
              "}\n",
              "\n",
              "#sk-container-id-3 div.sk-estimator.fitted:hover {\n",
              "  /* fitted */\n",
              "  background-color: var(--sklearn-color-fitted-level-2);\n",
              "}\n",
              "\n",
              "/* Specification for estimator info (e.g. \"i\" and \"?\") */\n",
              "\n",
              "/* Common style for \"i\" and \"?\" */\n",
              "\n",
              ".sk-estimator-doc-link,\n",
              "a:link.sk-estimator-doc-link,\n",
              "a:visited.sk-estimator-doc-link {\n",
              "  float: right;\n",
              "  font-size: smaller;\n",
              "  line-height: 1em;\n",
              "  font-family: monospace;\n",
              "  background-color: var(--sklearn-color-background);\n",
              "  border-radius: 1em;\n",
              "  height: 1em;\n",
              "  width: 1em;\n",
              "  text-decoration: none !important;\n",
              "  margin-left: 0.5em;\n",
              "  text-align: center;\n",
              "  /* unfitted */\n",
              "  border: var(--sklearn-color-unfitted-level-1) 1pt solid;\n",
              "  color: var(--sklearn-color-unfitted-level-1);\n",
              "}\n",
              "\n",
              ".sk-estimator-doc-link.fitted,\n",
              "a:link.sk-estimator-doc-link.fitted,\n",
              "a:visited.sk-estimator-doc-link.fitted {\n",
              "  /* fitted */\n",
              "  border: var(--sklearn-color-fitted-level-1) 1pt solid;\n",
              "  color: var(--sklearn-color-fitted-level-1);\n",
              "}\n",
              "\n",
              "/* On hover */\n",
              "div.sk-estimator:hover .sk-estimator-doc-link:hover,\n",
              ".sk-estimator-doc-link:hover,\n",
              "div.sk-label-container:hover .sk-estimator-doc-link:hover,\n",
              ".sk-estimator-doc-link:hover {\n",
              "  /* unfitted */\n",
              "  background-color: var(--sklearn-color-unfitted-level-3);\n",
              "  color: var(--sklearn-color-background);\n",
              "  text-decoration: none;\n",
              "}\n",
              "\n",
              "div.sk-estimator.fitted:hover .sk-estimator-doc-link.fitted:hover,\n",
              ".sk-estimator-doc-link.fitted:hover,\n",
              "div.sk-label-container:hover .sk-estimator-doc-link.fitted:hover,\n",
              ".sk-estimator-doc-link.fitted:hover {\n",
              "  /* fitted */\n",
              "  background-color: var(--sklearn-color-fitted-level-3);\n",
              "  color: var(--sklearn-color-background);\n",
              "  text-decoration: none;\n",
              "}\n",
              "\n",
              "/* Span, style for the box shown on hovering the info icon */\n",
              ".sk-estimator-doc-link span {\n",
              "  display: none;\n",
              "  z-index: 9999;\n",
              "  position: relative;\n",
              "  font-weight: normal;\n",
              "  right: .2ex;\n",
              "  padding: .5ex;\n",
              "  margin: .5ex;\n",
              "  width: min-content;\n",
              "  min-width: 20ex;\n",
              "  max-width: 50ex;\n",
              "  color: var(--sklearn-color-text);\n",
              "  box-shadow: 2pt 2pt 4pt #999;\n",
              "  /* unfitted */\n",
              "  background: var(--sklearn-color-unfitted-level-0);\n",
              "  border: .5pt solid var(--sklearn-color-unfitted-level-3);\n",
              "}\n",
              "\n",
              ".sk-estimator-doc-link.fitted span {\n",
              "  /* fitted */\n",
              "  background: var(--sklearn-color-fitted-level-0);\n",
              "  border: var(--sklearn-color-fitted-level-3);\n",
              "}\n",
              "\n",
              ".sk-estimator-doc-link:hover span {\n",
              "  display: block;\n",
              "}\n",
              "\n",
              "/* \"?\"-specific style due to the `<a>` HTML tag */\n",
              "\n",
              "#sk-container-id-3 a.estimator_doc_link {\n",
              "  float: right;\n",
              "  font-size: 1rem;\n",
              "  line-height: 1em;\n",
              "  font-family: monospace;\n",
              "  background-color: var(--sklearn-color-background);\n",
              "  border-radius: 1rem;\n",
              "  height: 1rem;\n",
              "  width: 1rem;\n",
              "  text-decoration: none;\n",
              "  /* unfitted */\n",
              "  color: var(--sklearn-color-unfitted-level-1);\n",
              "  border: var(--sklearn-color-unfitted-level-1) 1pt solid;\n",
              "}\n",
              "\n",
              "#sk-container-id-3 a.estimator_doc_link.fitted {\n",
              "  /* fitted */\n",
              "  border: var(--sklearn-color-fitted-level-1) 1pt solid;\n",
              "  color: var(--sklearn-color-fitted-level-1);\n",
              "}\n",
              "\n",
              "/* On hover */\n",
              "#sk-container-id-3 a.estimator_doc_link:hover {\n",
              "  /* unfitted */\n",
              "  background-color: var(--sklearn-color-unfitted-level-3);\n",
              "  color: var(--sklearn-color-background);\n",
              "  text-decoration: none;\n",
              "}\n",
              "\n",
              "#sk-container-id-3 a.estimator_doc_link.fitted:hover {\n",
              "  /* fitted */\n",
              "  background-color: var(--sklearn-color-fitted-level-3);\n",
              "}\n",
              "</style><div id=\"sk-container-id-3\" class=\"sk-top-container\"><div class=\"sk-text-repr-fallback\"><pre>LinearRegression()</pre><b>In a Jupyter environment, please rerun this cell to show the HTML representation or trust the notebook. <br />On GitHub, the HTML representation is unable to render, please try loading this page with nbviewer.org.</b></div><div class=\"sk-container\" hidden><div class=\"sk-item\"><div class=\"sk-estimator fitted sk-toggleable\"><input class=\"sk-toggleable__control sk-hidden--visually\" id=\"sk-estimator-id-3\" type=\"checkbox\" checked><label for=\"sk-estimator-id-3\" class=\"sk-toggleable__label fitted sk-toggleable__label-arrow\"><div><div>LinearRegression</div></div><div><a class=\"sk-estimator-doc-link fitted\" rel=\"noreferrer\" target=\"_blank\" href=\"https://scikit-learn.org/1.6/modules/generated/sklearn.linear_model.LinearRegression.html\">?<span>Documentation for LinearRegression</span></a><span class=\"sk-estimator-doc-link fitted\">i<span>Fitted</span></span></div></label><div class=\"sk-toggleable__content fitted\"><pre>LinearRegression()</pre></div> </div></div></div></div>"
            ]
          },
          "metadata": {},
          "execution_count": 75
        }
      ]
    },
    {
      "cell_type": "code",
      "source": [
        "# evaluate the performance of Linear Regression model on train and test set\n",
        "evaluate_model(lr, (x_train, y_train))\n",
        "evaluate_model(lr, (x_test, y_test))"
      ],
      "metadata": {
        "colab": {
          "base_uri": "https://localhost:8080/"
        },
        "id": "s8WZSIDSJ6kX",
        "outputId": "70031224-f66f-4a54-a897-dee433685b1c"
      },
      "execution_count": null,
      "outputs": [
        {
          "output_type": "stream",
          "name": "stdout",
          "text": [
            "RMSE: 1092476.579\n",
            "MSE: 1193505076004.693\n",
            "R2: 0.659\n",
            "Non-zero coefficients: 1.0\n",
            "RMSE: 977460.415\n",
            "MSE: 955428862101.250\n",
            "R2: 0.725\n",
            "Non-zero coefficients: 1.0\n"
          ]
        }
      ]
    },
    {
      "cell_type": "markdown",
      "source": [
        "## Regularization models"
      ],
      "metadata": {
        "id": "ch0IT2AmQwZt"
      }
    },
    {
      "cell_type": "markdown",
      "source": [
        "### Ridge"
      ],
      "metadata": {
        "id": "B9AS2vsNEbQ3"
      }
    },
    {
      "cell_type": "markdown",
      "source": [
        "#### alpha .01"
      ],
      "metadata": {
        "id": "nzv1pzAK208G"
      }
    },
    {
      "cell_type": "code",
      "source": [
        "# import Ridge class from sklearn library\n",
        "from sklearn.linear_model import Ridge"
      ],
      "metadata": {
        "id": "3Ps58-MWJQE_"
      },
      "execution_count": null,
      "outputs": []
    },
    {
      "cell_type": "code",
      "source": [
        "# fit and evaluate the performance of Ridge regression with alpha=.01 on train and test set\n",
        "model = Ridge(alpha=.01)\n",
        "\n",
        "model.fit(x_train, y_train)\n",
        "\n",
        "evaluate_model(model, (x_train, y_train))\n",
        "evaluate_model(model, (x_test, y_test))"
      ],
      "metadata": {
        "colab": {
          "base_uri": "https://localhost:8080/"
        },
        "id": "-yQqnXkFJLr1",
        "outputId": "4669074a-680f-450b-9861-c5cc75a2155f"
      },
      "execution_count": null,
      "outputs": [
        {
          "output_type": "stream",
          "name": "stdout",
          "text": [
            "RMSE: 1870316.925\n",
            "MSE: 3498085400693.708\n",
            "R2: 0.001\n",
            "Non-zero coefficients: 1.0\n",
            "RMSE: 1861240.157\n",
            "MSE: 3464214920877.432\n",
            "R2: 0.001\n",
            "Non-zero coefficients: 1.0\n"
          ]
        }
      ]
    },
    {
      "cell_type": "markdown",
      "source": [
        "#### alpha .5"
      ],
      "metadata": {
        "id": "MHUszr5y250C"
      }
    },
    {
      "cell_type": "code",
      "source": [
        "# fit and evaluate the performance of Ridge regression with alpha=.5 on train and test set\n",
        "model = Ridge(alpha=.5)\n",
        "\n",
        "model.fit(x_train, y_train)\n",
        "\n",
        "evaluate_model(model, (x_train, y_train))\n",
        "evaluate_model(model, (x_test, y_test))"
      ],
      "metadata": {
        "colab": {
          "base_uri": "https://localhost:8080/"
        },
        "id": "Ue3fxziHTkKN",
        "outputId": "944438be-451e-4485-eb50-197a8835658a"
      },
      "execution_count": null,
      "outputs": [
        {
          "output_type": "stream",
          "name": "stdout",
          "text": [
            "RMSE: 1092477.154\n",
            "MSE: 1193506332469.407\n",
            "R2: 0.659\n",
            "Non-zero coefficients: 1.0\n",
            "RMSE: 977341.368\n",
            "MSE: 955196150144.620\n",
            "R2: 0.725\n",
            "Non-zero coefficients: 1.0\n"
          ]
        }
      ]
    },
    {
      "cell_type": "markdown",
      "source": [
        "#### alpha 1"
      ],
      "metadata": {
        "id": "ZMzBqrIK28Va"
      }
    },
    {
      "cell_type": "code",
      "source": [
        "# fit and evaluate the performance of Ridge regression with alpha=1 on train and test set\n",
        "model = Ridge(alpha=1)\n",
        "\n",
        "model.fit(x_train, y_train)\n",
        "\n",
        "evaluate_model(model, (x_train, y_train))\n",
        "evaluate_model(model, (x_test, y_test))"
      ],
      "metadata": {
        "colab": {
          "base_uri": "https://localhost:8080/"
        },
        "id": "jkxacMahK1Ex",
        "outputId": "0ff364e5-0749-4717-f1e8-a0cbca4f9288"
      },
      "execution_count": null,
      "outputs": [
        {
          "output_type": "stream",
          "name": "stdout",
          "text": [
            "RMSE: 1092478.873\n",
            "MSE: 1193510087731.759\n",
            "R2: 0.659\n",
            "Non-zero coefficients: 1.0\n",
            "RMSE: 977224.369\n",
            "MSE: 954967467867.362\n",
            "R2: 0.725\n",
            "Non-zero coefficients: 1.0\n"
          ]
        }
      ]
    },
    {
      "cell_type": "markdown",
      "source": [
        "#### alpha 10"
      ],
      "metadata": {
        "id": "p8CR9tOR3yPB"
      }
    },
    {
      "cell_type": "code",
      "source": [
        "# fit and evaluate the performance of Ridge regression with alpha=1 on train and test set\n",
        "model = Ridge(alpha=10)\n",
        "\n",
        "model.fit(x_train, y_train)\n",
        "\n",
        "evaluate_model(model, (x_train, y_train))\n",
        "evaluate_model(model, (x_test, y_test))"
      ],
      "metadata": {
        "colab": {
          "base_uri": "https://localhost:8080/"
        },
        "id": "KzrkrKuC30az",
        "outputId": "97830024-5c0b-4bd4-80ae-f5b25c52fa67"
      },
      "execution_count": null,
      "outputs": [
        {
          "output_type": "stream",
          "name": "stdout",
          "text": [
            "RMSE: 1092694.936\n",
            "MSE: 1193982222992.118\n",
            "R2: 0.659\n",
            "Non-zero coefficients: 1.0\n",
            "RMSE: 975450.867\n",
            "MSE: 951504394124.570\n",
            "R2: 0.726\n",
            "Non-zero coefficients: 1.0\n"
          ]
        }
      ]
    },
    {
      "cell_type": "markdown",
      "source": [
        "Changing the *alpha* parameter does not substantially change the metrics"
      ],
      "metadata": {
        "id": "oa88-yNPTsHj"
      }
    },
    {
      "cell_type": "markdown",
      "source": [
        "### Lasso"
      ],
      "metadata": {
        "id": "ne6RI2XkRdYk"
      }
    },
    {
      "cell_type": "code",
      "source": [
        "# import Lasso class from sklearn library\n",
        "from sklearn.linear_model import Lasso"
      ],
      "metadata": {
        "id": "v9oWzkB-NlxF"
      },
      "execution_count": null,
      "outputs": []
    },
    {
      "cell_type": "markdown",
      "source": [
        "#### alpha 0.01"
      ],
      "metadata": {
        "id": "wAA_gJJd3_rt"
      }
    },
    {
      "cell_type": "code",
      "source": [
        "# fit and evaluate the performance of Lasso regression with alpha=.01 on train and test set\n",
        "model = Lasso(alpha=.01)\n",
        "\n",
        "model.fit(x_train, y_train)\n",
        "\n",
        "evaluate_model(model, (x_train, y_train))\n",
        "evaluate_model(model, (x_test, y_test))"
      ],
      "metadata": {
        "colab": {
          "base_uri": "https://localhost:8080/"
        },
        "id": "e2ZP7zhMNj4c",
        "outputId": "3d4b01d8-3a44-4ce9-9b3f-c41d0be7b966"
      },
      "execution_count": null,
      "outputs": [
        {
          "output_type": "stream",
          "name": "stdout",
          "text": [
            "RMSE: 1092476.579\n",
            "MSE: 1193505076004.694\n",
            "R2: 0.659\n",
            "Non-zero coefficients: 1.0\n",
            "RMSE: 977460.410\n",
            "MSE: 955428853430.027\n",
            "R2: 0.725\n",
            "Non-zero coefficients: 1.0\n"
          ]
        }
      ]
    },
    {
      "cell_type": "markdown",
      "source": [
        "#### alpha .5"
      ],
      "metadata": {
        "id": "WvfgNFt34MXd"
      }
    },
    {
      "cell_type": "code",
      "source": [
        "# fit and evaluate the performance of Lasso regression with alpha=.5 on train and test set\n",
        "model = Lasso(alpha=.5)\n",
        "\n",
        "model.fit(x_train, y_train)\n",
        "\n",
        "evaluate_model(model, (x_train, y_train))\n",
        "evaluate_model(model, (x_test, y_test))"
      ],
      "metadata": {
        "colab": {
          "base_uri": "https://localhost:8080/"
        },
        "id": "lrm55cJk4LPL",
        "outputId": "98dd5ac7-f0bd-4ac4-bdd2-0ea2209b069f"
      },
      "execution_count": null,
      "outputs": [
        {
          "output_type": "stream",
          "name": "stdout",
          "text": [
            "RMSE: 1092476.579\n",
            "MSE: 1193505076006.623\n",
            "R2: 0.659\n",
            "Non-zero coefficients: 1.0\n",
            "RMSE: 977460.198\n",
            "MSE: 955428438038.474\n",
            "R2: 0.725\n",
            "Non-zero coefficients: 1.0\n"
          ]
        }
      ]
    },
    {
      "cell_type": "markdown",
      "source": [
        "#### alpha 1"
      ],
      "metadata": {
        "id": "CUucpSaT4USW"
      }
    },
    {
      "cell_type": "code",
      "source": [
        "# fit and evaluate the performance of Lasso regression with alpha=1 on train and test set\n",
        "model = Lasso(alpha=1)\n",
        "\n",
        "model.fit(x_train, y_train)\n",
        "\n",
        "evaluate_model(model, (x_train, y_train))\n",
        "evaluate_model(model, (x_test, y_test))"
      ],
      "metadata": {
        "colab": {
          "base_uri": "https://localhost:8080/"
        },
        "id": "4zy55h2N4UvQ",
        "outputId": "646a3f2c-c0e3-43f2-d82d-465cbff6f2fe"
      },
      "execution_count": null,
      "outputs": [
        {
          "output_type": "stream",
          "name": "stdout",
          "text": [
            "RMSE: 1092476.579\n",
            "MSE: 1193505076012.438\n",
            "R2: 0.659\n",
            "Non-zero coefficients: 1.0\n",
            "RMSE: 977459.984\n",
            "MSE: 955428019727.901\n",
            "R2: 0.725\n",
            "Non-zero coefficients: 1.0\n"
          ]
        }
      ]
    },
    {
      "cell_type": "markdown",
      "source": [
        "#### alpha 10"
      ],
      "metadata": {
        "id": "qJeqJeus4eoD"
      }
    },
    {
      "cell_type": "code",
      "source": [
        "# fit and evaluate the performance of Lasso regression with alpha=10 on train and test set\n",
        "model = Lasso(alpha=10000)\n",
        "\n",
        "model.fit(x_train, y_train)\n",
        "\n",
        "evaluate_model(model, (x_train, y_train))\n",
        "evaluate_model(model, (x_test, y_test))"
      ],
      "metadata": {
        "colab": {
          "base_uri": "https://localhost:8080/"
        },
        "id": "uvQ2tSeH4hah",
        "outputId": "d53c5d0f-12dc-48f5-b3d3-ef2c8736bf73"
      },
      "execution_count": null,
      "outputs": [
        {
          "output_type": "stream",
          "name": "stdout",
          "text": [
            "RMSE: 1092829.034\n",
            "MSE: 1194275297734.162\n",
            "R2: 0.659\n",
            "Non-zero coefficients: 1.0\n",
            "RMSE: 973512.425\n",
            "MSE: 947726441429.151\n",
            "R2: 0.727\n",
            "Non-zero coefficients: 1.0\n"
          ]
        }
      ]
    },
    {
      "cell_type": "markdown",
      "source": [
        "### ElasticNet"
      ],
      "metadata": {
        "id": "U6bGRWCE4o1d"
      }
    },
    {
      "cell_type": "markdown",
      "source": [
        "ElasticNet combines Ridge and Lasso"
      ],
      "metadata": {
        "id": "7pI8YuKq5MIy"
      }
    },
    {
      "cell_type": "code",
      "source": [
        "# import ElasticNet class from sklearn library\n",
        "from sklearn.linear_model import ElasticNet"
      ],
      "metadata": {
        "id": "zhEZRXKwNvMB"
      },
      "execution_count": null,
      "outputs": []
    },
    {
      "cell_type": "markdown",
      "source": [
        "#### alpha .01 ratio 0.5"
      ],
      "metadata": {
        "id": "j8v4nfE35BI0"
      }
    },
    {
      "cell_type": "code",
      "source": [
        "# fit and evaluate the performance of ElasticNet regression with alpha=.01 and ratio 0.5 on train and test set\n",
        "# ratio = 0.5 means that the weights of Ridge and Lasso are the same\n",
        "model = ElasticNet(alpha=.01, l1_ratio=0.5)\n",
        "\n",
        "model.fit(x_train, y_train)\n",
        "\n",
        "evaluate_model(model, (x_train, y_train))\n",
        "evaluate_model(model, (x_test, y_test))"
      ],
      "metadata": {
        "colab": {
          "base_uri": "https://localhost:8080/"
        },
        "id": "0AOnh0QTNxIc",
        "outputId": "7b1424f1-dd1e-4e96-c385-027e7e908071"
      },
      "execution_count": null,
      "outputs": [
        {
          "output_type": "stream",
          "name": "stdout",
          "text": [
            "RMSE: 1097701.139\n",
            "MSE: 1204947790316.926\n",
            "R2: 0.656\n",
            "Non-zero coefficients: 1.0\n",
            "RMSE: 980326.918\n",
            "MSE: 961040865989.063\n",
            "R2: 0.723\n",
            "Non-zero coefficients: 1.0\n"
          ]
        }
      ]
    },
    {
      "cell_type": "markdown",
      "source": [
        "#### alpha .01 ratio 0"
      ],
      "metadata": {
        "id": "ShayrAnB6H0-"
      }
    },
    {
      "cell_type": "code",
      "source": [
        "# fit and evaluate the performance of ElasticNet regression with alpha=.01 and ratio 0 on train and test set\n",
        "# ratio = 0 means that the algorithm is using Ridge (L2)\n",
        "model = ElasticNet(alpha=.01, l1_ratio=0)\n",
        "\n",
        "model.fit(x_train, y_train)\n",
        "\n",
        "evaluate_model(model, (x_train, y_train))\n",
        "evaluate_model(model, (x_test, y_test))"
      ],
      "metadata": {
        "colab": {
          "base_uri": "https://localhost:8080/"
        },
        "id": "Y6Rys4gK5H3P",
        "outputId": "9747be74-c9aa-4e08-a920-744e33b8983a"
      },
      "execution_count": null,
      "outputs": [
        {
          "output_type": "stream",
          "name": "stdout",
          "text": [
            "RMSE: 1097724.157\n",
            "MSE: 1204998324567.830\n",
            "R2: 0.656\n",
            "Non-zero coefficients: 1.0\n",
            "RMSE: 979922.498\n",
            "MSE: 960248101782.522\n",
            "R2: 0.723\n",
            "Non-zero coefficients: 1.0\n"
          ]
        },
        {
          "output_type": "stream",
          "name": "stderr",
          "text": [
            "/usr/local/lib/python3.11/dist-packages/sklearn/linear_model/_coordinate_descent.py:695: ConvergenceWarning: Objective did not converge. You might want to increase the number of iterations, check the scale of the features or consider increasing regularisation. Duality gap: 2.316e+14, tolerance: 1.334e+11 Linear regression models with null weight for the l1 regularization term are more efficiently fitted using one of the solvers implemented in sklearn.linear_model.Ridge/RidgeCV instead.\n",
            "  model = cd_fast.enet_coordinate_descent(\n"
          ]
        }
      ]
    },
    {
      "cell_type": "markdown",
      "source": [
        "#### alpha .01 ratio 1"
      ],
      "metadata": {
        "id": "ll-FAxGF6MLS"
      }
    },
    {
      "cell_type": "code",
      "source": [
        "# fit and evaluate the performance of ElasticNet regression with alpha=.01 and ratio 1 on train and test set\n",
        "# ratio = 1 means that the algorithm is using Lasso (L1)\n",
        "model = ElasticNet(alpha=.01, l1_ratio=0)\n",
        "\n",
        "model.fit(x_train, y_train)\n",
        "\n",
        "evaluate_model(model, (x_train, y_train))\n",
        "evaluate_model(model, (x_test, y_test))"
      ],
      "metadata": {
        "colab": {
          "base_uri": "https://localhost:8080/"
        },
        "id": "_pekQL3g6NnO",
        "outputId": "03dbfbef-b084-4f6c-efb4-cfb076bdba8e"
      },
      "execution_count": null,
      "outputs": [
        {
          "output_type": "stream",
          "name": "stdout",
          "text": [
            "RMSE: 1097724.157\n",
            "MSE: 1204998324567.830\n",
            "R2: 0.656\n",
            "Non-zero coefficients: 1.0\n",
            "RMSE: 979922.498\n",
            "MSE: 960248101782.522\n",
            "R2: 0.723\n",
            "Non-zero coefficients: 1.0\n"
          ]
        },
        {
          "output_type": "stream",
          "name": "stderr",
          "text": [
            "/usr/local/lib/python3.11/dist-packages/sklearn/linear_model/_coordinate_descent.py:695: ConvergenceWarning: Objective did not converge. You might want to increase the number of iterations, check the scale of the features or consider increasing regularisation. Duality gap: 2.316e+14, tolerance: 1.334e+11 Linear regression models with null weight for the l1 regularization term are more efficiently fitted using one of the solvers implemented in sklearn.linear_model.Ridge/RidgeCV instead.\n",
            "  model = cd_fast.enet_coordinate_descent(\n"
          ]
        }
      ]
    },
    {
      "cell_type": "markdown",
      "source": [
        "#### alpha 1 ration 0.5"
      ],
      "metadata": {
        "id": "UydD7pCB6Tfp"
      }
    },
    {
      "cell_type": "code",
      "source": [
        "# fit and evaluate the performance of ElasticNet regression with alpha=1 and ratio 0.5 on train and test set\n",
        "model = ElasticNet(alpha=1, l1_ratio=0.5)\n",
        "\n",
        "model.fit(x_train, y_train)\n",
        "\n",
        "evaluate_model(model, (x_train, y_train))\n",
        "evaluate_model(model, (x_test, y_test))"
      ],
      "metadata": {
        "colab": {
          "base_uri": "https://localhost:8080/"
        },
        "id": "xJFk02cF6Ub6",
        "outputId": "29ed41e4-af3f-40c7-b443-e547ba436e2a"
      },
      "execution_count": null,
      "outputs": [
        {
          "output_type": "stream",
          "name": "stdout",
          "text": [
            "RMSE: 1137207.205\n",
            "MSE: 1293240227187.340\n",
            "R2: 0.631\n",
            "Non-zero coefficients: 1.0\n",
            "RMSE: 1008159.096\n",
            "MSE: 1016384763294.284\n",
            "R2: 0.707\n",
            "Non-zero coefficients: 1.0\n"
          ]
        }
      ]
    },
    {
      "cell_type": "markdown",
      "source": [
        "# Cross-validation"
      ],
      "metadata": {
        "id": "6i_FXetH6nkl"
      }
    },
    {
      "cell_type": "code",
      "source": [
        "# import cross_validate class from sklearn\n",
        "from sklearn.model_selection import cross_validate"
      ],
      "metadata": {
        "id": "AMJZX_oX7LHm"
      },
      "execution_count": null,
      "outputs": []
    },
    {
      "cell_type": "markdown",
      "source": [
        "Execute cross validation for all previous models"
      ],
      "metadata": {
        "id": "tfVQzb7l9mm8"
      }
    },
    {
      "cell_type": "code",
      "source": [
        "model = Ridge(alpha=.01)\n",
        "cv_result = cross_validate(model, x_train, y_train, cv=5, return_train_score=True)\n",
        "cv_result"
      ],
      "metadata": {
        "colab": {
          "base_uri": "https://localhost:8080/"
        },
        "id": "lnDSW8-A8YN7",
        "outputId": "27386159-82ee-44ee-d3dc-18dc8221f219"
      },
      "execution_count": null,
      "outputs": [
        {
          "output_type": "execute_result",
          "data": {
            "text/plain": [
              "{'fit_time': array([0.0021584 , 0.00119019, 0.00112987, 0.0011344 , 0.00117064]),\n",
              " 'score_time': array([0.00137615, 0.00082254, 0.00076246, 0.00097752, 0.00082207]),\n",
              " 'test_score': array([0.6185672 , 0.66982592, 0.50907181, 0.64547521, 0.68033661]),\n",
              " 'train_score': array([0.66345467, 0.64715682, 0.68018779, 0.65419303, 0.64910731])}"
            ]
          },
          "metadata": {},
          "execution_count": 146
        }
      ]
    },
    {
      "cell_type": "code",
      "source": [
        "model = Ridge(alpha=.5)\n",
        "cv_result = cross_validate(model, x_train, y_train, cv=5, return_train_score=True)\n",
        "cv_result"
      ],
      "metadata": {
        "colab": {
          "base_uri": "https://localhost:8080/"
        },
        "id": "ikHTbhLt9YQr",
        "outputId": "0c857a72-2d8a-4844-85ca-753e66b9cd34"
      },
      "execution_count": null,
      "outputs": [
        {
          "output_type": "execute_result",
          "data": {
            "text/plain": [
              "{'fit_time': array([0.00261021, 0.00332856, 0.00179505, 0.00242329, 0.00269508]),\n",
              " 'score_time': array([0.00119114, 0.00132775, 0.00109434, 0.00125289, 0.00095749]),\n",
              " 'test_score': array([0.61852676, 0.66984592, 0.50930166, 0.64551182, 0.68049523]),\n",
              " 'train_score': array([0.6634541 , 0.64715635, 0.68018727, 0.65419235, 0.64910678])}"
            ]
          },
          "metadata": {},
          "execution_count": 147
        }
      ]
    },
    {
      "cell_type": "code",
      "source": [
        "model = Ridge(alpha=1)\n",
        "cv_result = cross_validate(model, x_train, y_train, cv=5, return_train_score=True)\n",
        "cv_result"
      ],
      "metadata": {
        "colab": {
          "base_uri": "https://localhost:8080/"
        },
        "id": "-U_ah-C49eIg",
        "outputId": "62b4778a-a17d-454f-b746-0880527017d8"
      },
      "execution_count": null,
      "outputs": [
        {
          "output_type": "execute_result",
          "data": {
            "text/plain": [
              "{'fit_time': array([0.00189328, 0.00128889, 0.00174975, 0.00148201, 0.00112486]),\n",
              " 'score_time': array([0.00096631, 0.00156999, 0.00111961, 0.00082588, 0.00076032]),\n",
              " 'test_score': array([0.61848449, 0.6698651 , 0.5095346 , 0.6455472 , 0.68065496]),\n",
              " 'train_score': array([0.66345239, 0.64715494, 0.68018575, 0.65419033, 0.6491052 ])}"
            ]
          },
          "metadata": {},
          "execution_count": 148
        }
      ]
    },
    {
      "cell_type": "code",
      "source": [
        "model = Ridge(alpha=10)\n",
        "cv_result = cross_validate(model, x_train, y_train, cv=5, return_train_score=True)\n",
        "cv_result"
      ],
      "metadata": {
        "colab": {
          "base_uri": "https://localhost:8080/"
        },
        "id": "4OnH2o0b9iSe",
        "outputId": "be9a32ca-5cef-4a5b-e623-bd34f7cc60bc"
      },
      "execution_count": null,
      "outputs": [
        {
          "output_type": "execute_result",
          "data": {
            "text/plain": [
              "{'fit_time': array([0.00254369, 0.00216341, 0.00276613, 0.00153017, 0.00117588]),\n",
              " 'score_time': array([0.001302  , 0.00097322, 0.0013051 , 0.00130272, 0.00072503]),\n",
              " 'test_score': array([0.61756259, 0.67001131, 0.51346222, 0.6458663 , 0.6831867 ]),\n",
              " 'train_score': array([0.6632399 , 0.64697781, 0.67999445, 0.65394049, 0.6489079 ])}"
            ]
          },
          "metadata": {},
          "execution_count": 149
        }
      ]
    },
    {
      "cell_type": "code",
      "source": [
        "model = Lasso(alpha=.01)\n",
        "cv_result = cross_validate(model, x_train, y_train, cv=5, return_train_score=True)\n",
        "cv_result"
      ],
      "metadata": {
        "colab": {
          "base_uri": "https://localhost:8080/"
        },
        "id": "Ysk-T_x19zh0",
        "outputId": "9ac58d41-778d-49cd-857c-1aa3bbccca78"
      },
      "execution_count": null,
      "outputs": [
        {
          "output_type": "execute_result",
          "data": {
            "text/plain": [
              "{'fit_time': array([0.00219822, 0.00175333, 0.00240397, 0.00118232, 0.00238633]),\n",
              " 'score_time': array([0.00117254, 0.00117493, 0.00092196, 0.00116444, 0.0009048 ]),\n",
              " 'test_score': array([0.61856801, 0.6698255 , 0.5090671 , 0.64547444, 0.68033335]),\n",
              " 'train_score': array([0.66345468, 0.64715682, 0.68018779, 0.65419303, 0.64910731])}"
            ]
          },
          "metadata": {},
          "execution_count": 150
        }
      ]
    },
    {
      "cell_type": "code",
      "source": [
        "model = Lasso(alpha=.5)\n",
        "cv_result = cross_validate(model, x_train, y_train, cv=5, return_train_score=True)\n",
        "cv_result"
      ],
      "metadata": {
        "colab": {
          "base_uri": "https://localhost:8080/"
        },
        "id": "jTvxJUk992_m",
        "outputId": "caa09715-57cb-48bd-dc05-09ae51342113"
      },
      "execution_count": null,
      "outputs": [
        {
          "output_type": "execute_result",
          "data": {
            "text/plain": [
              "{'fit_time': array([0.00190473, 0.00203013, 0.00235605, 0.00166488, 0.00117135]),\n",
              " 'score_time': array([0.00210547, 0.00151157, 0.0009439 , 0.00118232, 0.00077629]),\n",
              " 'test_score': array([0.61856784, 0.66982546, 0.50906729, 0.64547444, 0.68033334]),\n",
              " 'train_score': array([0.66345468, 0.64715682, 0.68018779, 0.65419303, 0.64910731])}"
            ]
          },
          "metadata": {},
          "execution_count": 151
        }
      ]
    },
    {
      "cell_type": "code",
      "source": [
        "model = Lasso(alpha=1)\n",
        "cv_result = cross_validate(model, x_train, y_train, cv=5, return_train_score=True)\n",
        "cv_result"
      ],
      "metadata": {
        "colab": {
          "base_uri": "https://localhost:8080/"
        },
        "id": "dkjkXlK695Q5",
        "outputId": "0d16b269-8c84-4b77-c68e-7c6c30b8e58b"
      },
      "execution_count": null,
      "outputs": [
        {
          "output_type": "execute_result",
          "data": {
            "text/plain": [
              "{'fit_time': array([0.00206232, 0.00116992, 0.00115252, 0.00122643, 0.00156665]),\n",
              " 'score_time': array([0.00126457, 0.00105786, 0.00082755, 0.00077367, 0.0008347 ]),\n",
              " 'test_score': array([0.61856767, 0.66982543, 0.50906747, 0.64547444, 0.6803331 ]),\n",
              " 'train_score': array([0.66345468, 0.64715682, 0.68018779, 0.65419303, 0.64910731])}"
            ]
          },
          "metadata": {},
          "execution_count": 152
        }
      ]
    },
    {
      "cell_type": "code",
      "source": [
        "model = Lasso(alpha=10)\n",
        "cv_result = cross_validate(model, x_train, y_train, cv=5, return_train_score=True)\n",
        "cv_result"
      ],
      "metadata": {
        "colab": {
          "base_uri": "https://localhost:8080/"
        },
        "id": "D-B2GLdx97NC",
        "outputId": "66b9ad06-dd12-427c-86f1-8838f73120d7"
      },
      "execution_count": null,
      "outputs": [
        {
          "output_type": "execute_result",
          "data": {
            "text/plain": [
              "{'fit_time': array([0.00482988, 0.00118184, 0.00148201, 0.00134611, 0.00140071]),\n",
              " 'score_time': array([0.00225425, 0.00087047, 0.00082636, 0.00082874, 0.00138998]),\n",
              " 'test_score': array([0.6185653 , 0.6698248 , 0.5090708 , 0.64547439, 0.68033488]),\n",
              " 'train_score': array([0.66345468, 0.64715682, 0.68018779, 0.65419303, 0.64910731])}"
            ]
          },
          "metadata": {},
          "execution_count": 153
        }
      ]
    },
    {
      "cell_type": "code",
      "source": [
        "model = ElasticNet(alpha=.01, l1_ratio=0.5)\n",
        "cv_result = cross_validate(model, x_train, y_train, cv=5, return_train_score=True)\n",
        "cv_result"
      ],
      "metadata": {
        "colab": {
          "base_uri": "https://localhost:8080/"
        },
        "id": "hiO7uk5h9_sM",
        "outputId": "b0cb00be-3844-4b7b-9b73-d30a45b11df8"
      },
      "execution_count": null,
      "outputs": [
        {
          "output_type": "execute_result",
          "data": {
            "text/plain": [
              "{'fit_time': array([0.00193048, 0.00453115, 0.00202394, 0.0011549 , 0.00153923]),\n",
              " 'score_time': array([0.00103545, 0.00130606, 0.00089264, 0.0008533 , 0.0010004 ]),\n",
              " 'test_score': array([0.61843946, 0.66988392, 0.50977744, 0.64558222, 0.6808204 ]),\n",
              " 'train_score': array([0.66344942, 0.64715245, 0.68018306, 0.65418677, 0.64910241])}"
            ]
          },
          "metadata": {},
          "execution_count": 154
        }
      ]
    },
    {
      "cell_type": "code",
      "source": [
        "model = ElasticNet(alpha=.01, l1_ratio=0)\n",
        "cv_result = cross_validate(model, x_train, y_train, cv=5, return_train_score=True)\n",
        "cv_result"
      ],
      "metadata": {
        "colab": {
          "base_uri": "https://localhost:8080/"
        },
        "id": "kM1InvUu-C0h",
        "outputId": "303a9af6-a377-4654-8053-5eb948597f9d"
      },
      "execution_count": null,
      "outputs": [
        {
          "output_type": "stream",
          "name": "stderr",
          "text": [
            "/usr/local/lib/python3.11/dist-packages/sklearn/linear_model/_coordinate_descent.py:695: ConvergenceWarning: Objective did not converge. You might want to increase the number of iterations, check the scale of the features or consider increasing regularisation. Duality gap: 1.692e+14, tolerance: 9.961e+10 Linear regression models with null weight for the l1 regularization term are more efficiently fitted using one of the solvers implemented in sklearn.linear_model.Ridge/RidgeCV instead.\n",
            "  model = cd_fast.enet_coordinate_descent(\n",
            "/usr/local/lib/python3.11/dist-packages/sklearn/linear_model/_coordinate_descent.py:695: ConvergenceWarning: Objective did not converge. You might want to increase the number of iterations, check the scale of the features or consider increasing regularisation. Duality gap: 1.948e+14, tolerance: 1.095e+11 Linear regression models with null weight for the l1 regularization term are more efficiently fitted using one of the solvers implemented in sklearn.linear_model.Ridge/RidgeCV instead.\n",
            "  model = cd_fast.enet_coordinate_descent(\n",
            "/usr/local/lib/python3.11/dist-packages/sklearn/linear_model/_coordinate_descent.py:695: ConvergenceWarning: Objective did not converge. You might want to increase the number of iterations, check the scale of the features or consider increasing regularisation. Duality gap: 1.815e+14, tolerance: 1.124e+11 Linear regression models with null weight for the l1 regularization term are more efficiently fitted using one of the solvers implemented in sklearn.linear_model.Ridge/RidgeCV instead.\n",
            "  model = cd_fast.enet_coordinate_descent(\n",
            "/usr/local/lib/python3.11/dist-packages/sklearn/linear_model/_coordinate_descent.py:695: ConvergenceWarning: Objective did not converge. You might want to increase the number of iterations, check the scale of the features or consider increasing regularisation. Duality gap: 1.731e+14, tolerance: 9.914e+10 Linear regression models with null weight for the l1 regularization term are more efficiently fitted using one of the solvers implemented in sklearn.linear_model.Ridge/RidgeCV instead.\n",
            "  model = cd_fast.enet_coordinate_descent(\n",
            "/usr/local/lib/python3.11/dist-packages/sklearn/linear_model/_coordinate_descent.py:695: ConvergenceWarning: Objective did not converge. You might want to increase the number of iterations, check the scale of the features or consider increasing regularisation. Duality gap: 2.000e+14, tolerance: 1.130e+11 Linear regression models with null weight for the l1 regularization term are more efficiently fitted using one of the solvers implemented in sklearn.linear_model.Ridge/RidgeCV instead.\n",
            "  model = cd_fast.enet_coordinate_descent(\n"
          ]
        },
        {
          "output_type": "execute_result",
          "data": {
            "text/plain": [
              "{'fit_time': array([0.00757909, 0.00646496, 0.00685573, 0.00654221, 0.00514197]),\n",
              " 'score_time': array([0.00120783, 0.00326085, 0.00141668, 0.00099897, 0.00098109]),\n",
              " 'test_score': array([0.61830173, 0.66993103, 0.51047283, 0.64567181, 0.6812879 ]),\n",
              " 'train_score': array([0.66343388, 0.64713951, 0.68016905, 0.65416829, 0.6490879 ])}"
            ]
          },
          "metadata": {},
          "execution_count": 155
        }
      ]
    },
    {
      "cell_type": "code",
      "source": [
        "model = ElasticNet(alpha=.01, l1_ratio=1)\n",
        "cv_result = cross_validate(model, x_train, y_train, cv=5, return_train_score=True)\n",
        "cv_result"
      ],
      "metadata": {
        "colab": {
          "base_uri": "https://localhost:8080/"
        },
        "id": "GAvygf3u-G8I",
        "outputId": "c490a47e-3c10-4afc-a463-e22c08799c5b"
      },
      "execution_count": null,
      "outputs": [
        {
          "output_type": "execute_result",
          "data": {
            "text/plain": [
              "{'fit_time': array([0.00261164, 0.0014205 , 0.00156403, 0.00148797, 0.00142193]),\n",
              " 'score_time': array([0.00127149, 0.00098181, 0.0009222 , 0.00089359, 0.00107932]),\n",
              " 'test_score': array([0.61856801, 0.6698255 , 0.5090671 , 0.64547444, 0.68033335]),\n",
              " 'train_score': array([0.66345468, 0.64715682, 0.68018779, 0.65419303, 0.64910731])}"
            ]
          },
          "metadata": {},
          "execution_count": 156
        }
      ]
    },
    {
      "cell_type": "code",
      "source": [
        "model = ElasticNet(alpha=1, l1_ratio=0.5)\n",
        "cv_result = cross_validate(model, x_train, y_train, cv=5, return_train_score=True)\n",
        "cv_result"
      ],
      "metadata": {
        "colab": {
          "base_uri": "https://localhost:8080/"
        },
        "id": "2BRXMlz2-J9I",
        "outputId": "4e2c21c4-c9ea-4450-bc40-5b78ed1b1502"
      },
      "execution_count": null,
      "outputs": [
        {
          "output_type": "execute_result",
          "data": {
            "text/plain": [
              "{'fit_time': array([0.00722837, 0.00120091, 0.00111938, 0.00109792, 0.00110006]),\n",
              " 'score_time': array([0.00108624, 0.0011673 , 0.00081587, 0.00080824, 0.00079966]),\n",
              " 'test_score': array([0.58464776, 0.64658376, 0.53632718, 0.61500328, 0.67959417]),\n",
              " 'train_score': array([0.63705526, 0.62353082, 0.65509814, 0.62527893, 0.62433441])}"
            ]
          },
          "metadata": {},
          "execution_count": 157
        }
      ]
    }
  ]
}